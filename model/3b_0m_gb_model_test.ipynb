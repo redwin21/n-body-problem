{
 "cells": [
  {
   "cell_type": "code",
   "execution_count": 19,
   "metadata": {},
   "outputs": [],
   "source": [
    "import numpy as np\n",
    "import pandas as pd\n",
    "import matplotlib.pyplot as plt\n",
    "import pickle\n",
    "plt.style.use(\"ggplot\")\n",
    "%matplotlib inline"
   ]
  },
  {
   "cell_type": "code",
   "execution_count": 20,
   "metadata": {},
   "outputs": [
    {
     "name": "stdout",
     "output_type": "stream",
     "text": [
      "The autoreload extension is already loaded. To reload it, use:\n",
      "  %reload_ext autoreload\n"
     ]
    }
   ],
   "source": [
    "from transform import get_X_y\n",
    "%load_ext autoreload\n",
    "%autoreload 2"
   ]
  },
  {
   "cell_type": "code",
   "execution_count": 21,
   "metadata": {},
   "outputs": [],
   "source": [
    "## import sklearn modules\n",
    "\n",
    "from sklearn.model_selection import train_test_split, cross_val_score, GridSearchCV\n",
    "from sklearn.preprocessing import StandardScaler\n",
    "from sklearn.pipeline import make_pipeline\n",
    "from sklearn.metrics import mean_squared_error\n",
    "\n",
    "from sklearn.ensemble import GradientBoostingRegressor, RandomForestRegressor\n",
    "from sklearn.multioutput import MultiOutputRegressor"
   ]
  },
  {
   "cell_type": "code",
   "execution_count": 22,
   "metadata": {},
   "outputs": [],
   "source": [
    "orbit3b = pd.read_csv('../data/samples_3_bodies_3_dim_0_m_com.csv')"
   ]
  },
  {
   "cell_type": "code",
   "execution_count": 23,
   "metadata": {},
   "outputs": [
    {
     "data": {
      "text/html": [
       "<div>\n",
       "<style scoped>\n",
       "    .dataframe tbody tr th:only-of-type {\n",
       "        vertical-align: middle;\n",
       "    }\n",
       "\n",
       "    .dataframe tbody tr th {\n",
       "        vertical-align: top;\n",
       "    }\n",
       "\n",
       "    .dataframe thead th {\n",
       "        text-align: right;\n",
       "    }\n",
       "</style>\n",
       "<table border=\"1\" class=\"dataframe\">\n",
       "  <thead>\n",
       "    <tr style=\"text-align: right;\">\n",
       "      <th></th>\n",
       "      <th>sim_id</th>\n",
       "      <th>m_1</th>\n",
       "      <th>m_2</th>\n",
       "      <th>m_3</th>\n",
       "      <th>rx_1_0</th>\n",
       "      <th>ry_1_0</th>\n",
       "      <th>rz_1_0</th>\n",
       "      <th>rx_2_0</th>\n",
       "      <th>ry_2_0</th>\n",
       "      <th>rz_2_0</th>\n",
       "      <th>...</th>\n",
       "      <th>rz_3_1000</th>\n",
       "      <th>vx_1_1000</th>\n",
       "      <th>vy_1_1000</th>\n",
       "      <th>vz_1_1000</th>\n",
       "      <th>vx_2_1000</th>\n",
       "      <th>vy_2_1000</th>\n",
       "      <th>vz_2_1000</th>\n",
       "      <th>vx_3_1000</th>\n",
       "      <th>vy_3_1000</th>\n",
       "      <th>vz_3_1000</th>\n",
       "    </tr>\n",
       "  </thead>\n",
       "  <tbody>\n",
       "    <tr>\n",
       "      <th>0</th>\n",
       "      <td>0.0</td>\n",
       "      <td>1.612215</td>\n",
       "      <td>2.697331</td>\n",
       "      <td>2.113259</td>\n",
       "      <td>-2.296006</td>\n",
       "      <td>2.877565</td>\n",
       "      <td>-9.170347</td>\n",
       "      <td>0.706297</td>\n",
       "      <td>-0.899724</td>\n",
       "      <td>3.160373</td>\n",
       "      <td>...</td>\n",
       "      <td>3.475327</td>\n",
       "      <td>-0.083728</td>\n",
       "      <td>-0.005456</td>\n",
       "      <td>-0.182062</td>\n",
       "      <td>-0.644452</td>\n",
       "      <td>0.732823</td>\n",
       "      <td>1.021511</td>\n",
       "      <td>0.886446</td>\n",
       "      <td>-0.931201</td>\n",
       "      <td>-1.164945</td>\n",
       "    </tr>\n",
       "    <tr>\n",
       "      <th>1</th>\n",
       "      <td>0.0</td>\n",
       "      <td>1.612215</td>\n",
       "      <td>2.697331</td>\n",
       "      <td>2.113259</td>\n",
       "      <td>-0.833236</td>\n",
       "      <td>2.025081</td>\n",
       "      <td>-4.682410</td>\n",
       "      <td>0.218571</td>\n",
       "      <td>-0.615884</td>\n",
       "      <td>1.653333</td>\n",
       "      <td>...</td>\n",
       "      <td>2.564054</td>\n",
       "      <td>-0.142035</td>\n",
       "      <td>0.065775</td>\n",
       "      <td>-0.412336</td>\n",
       "      <td>-0.434259</td>\n",
       "      <td>0.539911</td>\n",
       "      <td>0.856111</td>\n",
       "      <td>0.662640</td>\n",
       "      <td>-0.739314</td>\n",
       "      <td>-0.778154</td>\n",
       "    </tr>\n",
       "    <tr>\n",
       "      <th>2</th>\n",
       "      <td>0.0</td>\n",
       "      <td>1.612215</td>\n",
       "      <td>2.697331</td>\n",
       "      <td>2.113259</td>\n",
       "      <td>-1.386685</td>\n",
       "      <td>2.451587</td>\n",
       "      <td>-6.523806</td>\n",
       "      <td>0.407949</td>\n",
       "      <td>-0.761911</td>\n",
       "      <td>2.265831</td>\n",
       "      <td>...</td>\n",
       "      <td>2.923653</td>\n",
       "      <td>-0.120877</td>\n",
       "      <td>0.036916</td>\n",
       "      <td>-0.324624</td>\n",
       "      <td>-0.367041</td>\n",
       "      <td>0.482402</td>\n",
       "      <td>0.731627</td>\n",
       "      <td>0.560703</td>\n",
       "      <td>-0.643894</td>\n",
       "      <td>-0.686181</td>\n",
       "    </tr>\n",
       "    <tr>\n",
       "      <th>3</th>\n",
       "      <td>0.0</td>\n",
       "      <td>1.612215</td>\n",
       "      <td>2.697331</td>\n",
       "      <td>2.113259</td>\n",
       "      <td>-1.704009</td>\n",
       "      <td>2.637154</td>\n",
       "      <td>-7.498272</td>\n",
       "      <td>0.517432</td>\n",
       "      <td>-0.837350</td>\n",
       "      <td>2.580210</td>\n",
       "      <td>...</td>\n",
       "      <td>3.123465</td>\n",
       "      <td>-0.108443</td>\n",
       "      <td>0.021664</td>\n",
       "      <td>-0.275432</td>\n",
       "      <td>0.570784</td>\n",
       "      <td>-0.428765</td>\n",
       "      <td>-0.544556</td>\n",
       "      <td>-0.645808</td>\n",
       "      <td>0.530742</td>\n",
       "      <td>0.905192</td>\n",
       "    </tr>\n",
       "    <tr>\n",
       "      <th>4</th>\n",
       "      <td>0.0</td>\n",
       "      <td>1.612215</td>\n",
       "      <td>2.697331</td>\n",
       "      <td>2.113259</td>\n",
       "      <td>-2.050488</td>\n",
       "      <td>2.794998</td>\n",
       "      <td>-8.500527</td>\n",
       "      <td>0.619787</td>\n",
       "      <td>-0.874291</td>\n",
       "      <td>2.936525</td>\n",
       "      <td>...</td>\n",
       "      <td>3.362595</td>\n",
       "      <td>-0.094319</td>\n",
       "      <td>0.005680</td>\n",
       "      <td>-0.221403</td>\n",
       "      <td>1.123254</td>\n",
       "      <td>-1.029775</td>\n",
       "      <td>-1.358825</td>\n",
       "      <td>-1.361748</td>\n",
       "      <td>1.310056</td>\n",
       "      <td>1.903292</td>\n",
       "    </tr>\n",
       "  </tbody>\n",
       "</table>\n",
       "<p>5 rows × 76 columns</p>\n",
       "</div>"
      ],
      "text/plain": [
       "   sim_id       m_1       m_2       m_3    rx_1_0    ry_1_0    rz_1_0  \\\n",
       "0     0.0  1.612215  2.697331  2.113259 -2.296006  2.877565 -9.170347   \n",
       "1     0.0  1.612215  2.697331  2.113259 -0.833236  2.025081 -4.682410   \n",
       "2     0.0  1.612215  2.697331  2.113259 -1.386685  2.451587 -6.523806   \n",
       "3     0.0  1.612215  2.697331  2.113259 -1.704009  2.637154 -7.498272   \n",
       "4     0.0  1.612215  2.697331  2.113259 -2.050488  2.794998 -8.500527   \n",
       "\n",
       "     rx_2_0    ry_2_0    rz_2_0  ...  rz_3_1000  vx_1_1000  vy_1_1000  \\\n",
       "0  0.706297 -0.899724  3.160373  ...   3.475327  -0.083728  -0.005456   \n",
       "1  0.218571 -0.615884  1.653333  ...   2.564054  -0.142035   0.065775   \n",
       "2  0.407949 -0.761911  2.265831  ...   2.923653  -0.120877   0.036916   \n",
       "3  0.517432 -0.837350  2.580210  ...   3.123465  -0.108443   0.021664   \n",
       "4  0.619787 -0.874291  2.936525  ...   3.362595  -0.094319   0.005680   \n",
       "\n",
       "   vz_1_1000  vx_2_1000  vy_2_1000  vz_2_1000  vx_3_1000  vy_3_1000  vz_3_1000  \n",
       "0  -0.182062  -0.644452   0.732823   1.021511   0.886446  -0.931201  -1.164945  \n",
       "1  -0.412336  -0.434259   0.539911   0.856111   0.662640  -0.739314  -0.778154  \n",
       "2  -0.324624  -0.367041   0.482402   0.731627   0.560703  -0.643894  -0.686181  \n",
       "3  -0.275432   0.570784  -0.428765  -0.544556  -0.645808   0.530742   0.905192  \n",
       "4  -0.221403   1.123254  -1.029775  -1.358825  -1.361748   1.310056   1.903292  \n",
       "\n",
       "[5 rows x 76 columns]"
      ]
     },
     "execution_count": 23,
     "metadata": {},
     "output_type": "execute_result"
    }
   ],
   "source": [
    "orbit3b.head()"
   ]
  },
  {
   "cell_type": "code",
   "execution_count": 24,
   "metadata": {},
   "outputs": [],
   "source": [
    "model = MultiOutputRegressor(GradientBoostingRegressor(n_estimators=100,\n",
    "                                                        max_depth=10,\n",
    "                                                        learning_rate=0.05)\n",
    "                             , n_jobs=-1)"
   ]
  },
  {
   "cell_type": "code",
   "execution_count": 25,
   "metadata": {},
   "outputs": [],
   "source": [
    "steps = 10\n",
    "X, y = get_X_y(orbit3b, steps, True, True)"
   ]
  },
  {
   "cell_type": "code",
   "execution_count": 26,
   "metadata": {},
   "outputs": [],
   "source": [
    "X_train, X_test, y_train, y_test = train_test_split(X, y)"
   ]
  },
  {
   "cell_type": "code",
   "execution_count": 27,
   "metadata": {},
   "outputs": [],
   "source": [
    "model.fit(X_train, y_train);"
   ]
  },
  {
   "cell_type": "code",
   "execution_count": 28,
   "metadata": {},
   "outputs": [],
   "source": [
    "y_pred = model.predict(X_test)"
   ]
  },
  {
   "cell_type": "code",
   "execution_count": 29,
   "metadata": {},
   "outputs": [
    {
     "name": "stdout",
     "output_type": "stream",
     "text": [
      "10 0.926865444562274\n"
     ]
    }
   ],
   "source": [
    "print(steps, np.sqrt(mean_squared_error(y_test, y_pred)))"
   ]
  },
  {
   "cell_type": "code",
   "execution_count": 30,
   "metadata": {},
   "outputs": [
    {
     "data": {
      "text/plain": [
       "(array([ 0.22719298, -0.10538213, -0.73245808,  2.11359199,  0.05369671,\n",
       "        -0.17770615, -0.13721558,  0.80944048,  0.75247342,  0.48198724,\n",
       "         1.30925544,  0.84282245]),\n",
       " array([ 0.22340024, -0.09584466, -0.7352909 ,  2.10702361,  0.04475249,\n",
       "        -0.16436548, -0.24014472,  1.05423607,  0.81756974,  0.19919779,\n",
       "         0.92862919,  0.93334365]))"
      ]
     },
     "execution_count": 30,
     "metadata": {},
     "output_type": "execute_result"
    }
   ],
   "source": [
    "y_test[0], y_pred[0]"
   ]
  },
  {
   "cell_type": "code",
   "execution_count": 31,
   "metadata": {},
   "outputs": [],
   "source": [
    "steps = 100\n",
    "X, y = get_X_y(orbit3b, steps, True, True)"
   ]
  },
  {
   "cell_type": "code",
   "execution_count": 32,
   "metadata": {},
   "outputs": [],
   "source": [
    "X_train, X_test, y_train, y_test = train_test_split(X, y)"
   ]
  },
  {
   "cell_type": "code",
   "execution_count": 33,
   "metadata": {},
   "outputs": [],
   "source": [
    "model.fit(X_train, y_train);"
   ]
  },
  {
   "cell_type": "code",
   "execution_count": 34,
   "metadata": {},
   "outputs": [],
   "source": [
    "y_pred = model.predict(X_test)"
   ]
  },
  {
   "cell_type": "code",
   "execution_count": 35,
   "metadata": {},
   "outputs": [
    {
     "name": "stdout",
     "output_type": "stream",
     "text": [
      "100 1.3189722859293307\n"
     ]
    }
   ],
   "source": [
    "print(steps, np.sqrt(mean_squared_error(y_test, y_pred)))"
   ]
  },
  {
   "cell_type": "code",
   "execution_count": 36,
   "metadata": {},
   "outputs": [
    {
     "data": {
      "text/plain": [
       "(array([ 1.15839744, -0.00426382,  0.14910177,  0.47946344,  0.21177181,\n",
       "        -0.25817711,  1.22061501, -1.4140772 , -3.0122764 ,  0.44040862,\n",
       "        -3.1143608 , -1.49056966]),\n",
       " array([-0.0426533 ,  0.04496503,  0.73020472, -0.05924909,  0.45660182,\n",
       "         0.12221846,  0.09023838, -0.16839759, -0.99990985,  0.03844903,\n",
       "        -0.23198878, -0.15609391]))"
      ]
     },
     "execution_count": 36,
     "metadata": {},
     "output_type": "execute_result"
    }
   ],
   "source": [
    "y_test[0], y_pred[0]"
   ]
  },
  {
   "cell_type": "code",
   "execution_count": 37,
   "metadata": {},
   "outputs": [],
   "source": [
    "steps = 1000\n",
    "X, y = get_X_y(orbit3b, steps, True, True)"
   ]
  },
  {
   "cell_type": "code",
   "execution_count": 38,
   "metadata": {},
   "outputs": [],
   "source": [
    "X_train, X_test, y_train, y_test = train_test_split(X, y)"
   ]
  },
  {
   "cell_type": "code",
   "execution_count": 39,
   "metadata": {},
   "outputs": [],
   "source": [
    "model.fit(X_train, y_train);"
   ]
  },
  {
   "cell_type": "code",
   "execution_count": 40,
   "metadata": {},
   "outputs": [],
   "source": [
    "y_pred = model.predict(X_test)"
   ]
  },
  {
   "cell_type": "code",
   "execution_count": 41,
   "metadata": {},
   "outputs": [
    {
     "name": "stdout",
     "output_type": "stream",
     "text": [
      "1000 2.342292422475718\n"
     ]
    }
   ],
   "source": [
    "print(steps, np.sqrt(mean_squared_error(y_test, y_pred)))"
   ]
  },
  {
   "cell_type": "code",
   "execution_count": 42,
   "metadata": {},
   "outputs": [
    {
     "data": {
      "text/plain": [
       "(array([ 0.22698777, -0.43346018, -0.78345512, -0.20692582, -1.32776886,\n",
       "         0.03241071, -1.28486153, -0.80801258, -0.55344148,  0.19082865,\n",
       "         1.18835337,  2.09872536]),\n",
       " array([-0.10097987, -0.37314307, -0.32845194,  0.12696265,  1.59285194,\n",
       "        -1.32410305, -0.17394209, -0.21295738,  0.19447635, -0.02039434,\n",
       "        -0.01486469, -0.11760966]))"
      ]
     },
     "execution_count": 42,
     "metadata": {},
     "output_type": "execute_result"
    }
   ],
   "source": [
    "y_test[0], y_pred[0]"
   ]
  }
 ],
 "metadata": {
  "kernelspec": {
   "display_name": "Environment (conda_tensorflow2_p36)",
   "language": "python",
   "name": "conda_tensorflow2_p36"
  },
  "language_info": {
   "codemirror_mode": {
    "name": "ipython",
    "version": 3
   },
   "file_extension": ".py",
   "mimetype": "text/x-python",
   "name": "python",
   "nbconvert_exporter": "python",
   "pygments_lexer": "ipython3",
   "version": "3.6.10"
  }
 },
 "nbformat": 4,
 "nbformat_minor": 4
}
