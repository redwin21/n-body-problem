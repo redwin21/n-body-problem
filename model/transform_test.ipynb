{
 "cells": [
  {
   "cell_type": "code",
   "execution_count": 67,
   "metadata": {},
   "outputs": [],
   "source": [
    "import numpy as np\n",
    "import pandas as pd\n",
    "import matplotlib.pyplot as plt\n",
    "import pickle\n",
    "plt.style.use(\"ggplot\")\n",
    "%matplotlib inline"
   ]
  },
  {
   "cell_type": "code",
   "execution_count": 68,
   "metadata": {},
   "outputs": [
    {
     "name": "stdout",
     "output_type": "stream",
     "text": [
      "The autoreload extension is already loaded. To reload it, use:\n",
      "  %reload_ext autoreload\n"
     ]
    }
   ],
   "source": [
    "from transform import get_X_y\n",
    "from transform import inverse_transform_X_y\n",
    "%load_ext autoreload\n",
    "%autoreload 2"
   ]
  },
  {
   "cell_type": "code",
   "execution_count": 69,
   "metadata": {},
   "outputs": [],
   "source": [
    "orbit3b = pd.read_csv('../data/samples_3_bodies_3_dim_0_m_com.csv')"
   ]
  },
  {
   "cell_type": "code",
   "execution_count": 82,
   "metadata": {},
   "outputs": [],
   "source": [
    "steps = 10\n",
    "orig_X, _ = get_X_y(orbit3b, steps, True, False)"
   ]
  },
  {
   "cell_type": "code",
   "execution_count": 83,
   "metadata": {},
   "outputs": [
    {
     "data": {
      "text/plain": [
       "array([ 1.61221481,  2.69733117,  2.11325921, -2.29600625,  2.87756519,\n",
       "       -9.1703469 ,  0.70629746, -0.89972364,  3.16037259,  0.85012626,\n",
       "       -1.04691399,  2.9622479 , -0.11819034,  0.03352034, -0.31385727,\n",
       "        0.4553841 , -0.31020747, -0.36746062, -0.49107724,  0.37037117,\n",
       "        0.70846411])"
      ]
     },
     "execution_count": 83,
     "metadata": {},
     "output_type": "execute_result"
    }
   ],
   "source": [
    "orig_X[0]"
   ]
  },
  {
   "cell_type": "code",
   "execution_count": 84,
   "metadata": {},
   "outputs": [],
   "source": [
    "steps = 10\n",
    "trans_X, _ = get_X_y(orbit3b, steps, True, True)"
   ]
  },
  {
   "cell_type": "code",
   "execution_count": 85,
   "metadata": {},
   "outputs": [
    {
     "data": {
      "text/plain": [
       "array([ 1.61221481,  2.69733117,  2.11325921,  3.00230372, -3.77728883,\n",
       "       12.33071948,  3.14613251, -3.92447918, 12.1325948 ,  0.57357444,\n",
       "       -0.34372781, -0.05360335, -0.3728869 ,  0.33685083,  1.02232138])"
      ]
     },
     "execution_count": 85,
     "metadata": {},
     "output_type": "execute_result"
    }
   ],
   "source": [
    "trans_X[0]"
   ]
  },
  {
   "cell_type": "code",
   "execution_count": 95,
   "metadata": {},
   "outputs": [
    {
     "name": "stdout",
     "output_type": "stream",
     "text": [
      "[ 2.29600625 -2.87756519  9.1703469 ]\n"
     ]
    }
   ],
   "source": [
    "inv_X = inverse_transform_X_y(trans_X, 3, True)"
   ]
  },
  {
   "cell_type": "code",
   "execution_count": 96,
   "metadata": {},
   "outputs": [
    {
     "data": {
      "text/plain": [
       "array([ 1.61221481,  2.69733117,  2.11325921, -2.29600625,  2.87756519,\n",
       "       -9.1703469 ,  0.70629746, -0.89972364,  3.16037259,  0.85012626,\n",
       "       -1.04691399,  2.9622479 , -0.11819034,  0.03352034, -0.31385727,\n",
       "        0.4553841 , -0.31020747, -0.36746062, -0.49107724,  0.37037117,\n",
       "        0.70846411])"
      ]
     },
     "execution_count": 96,
     "metadata": {},
     "output_type": "execute_result"
    }
   ],
   "source": [
    "inv_X[0]"
   ]
  },
  {
   "cell_type": "code",
   "execution_count": 89,
   "metadata": {},
   "outputs": [
    {
     "data": {
      "text/plain": [
       "array([ 6.91425626e-17, -6.91425626e-17,  2.76570250e-16])"
      ]
     },
     "execution_count": 89,
     "metadata": {},
     "output_type": "execute_result"
    }
   ],
   "source": [
    "m = orig_X[0,:3]\n",
    "r = orig_X[0, 3:12]\n",
    "v = orig_X[0, 12:]\n",
    "\n",
    "((r.reshape((3, 3)).T @ m) / np.sum(m))"
   ]
  },
  {
   "cell_type": "code",
   "execution_count": 91,
   "metadata": {},
   "outputs": [
    {
     "name": "stdout",
     "output_type": "stream",
     "text": [
      "[-2.29600625  2.87756519 -9.1703469   0.70629746 -0.89972364  3.16037259\n",
      "  0.85012626 -1.04691399  2.9622479 ] [[-2.29600625  2.87756519 -9.1703469 ]\n",
      " [ 0.70629746 -0.89972364  3.16037259]\n",
      " [ 0.85012626 -1.04691399  2.9622479 ]]\n"
     ]
    }
   ],
   "source": []
  },
  {
   "cell_type": "code",
   "execution_count": null,
   "metadata": {},
   "outputs": [],
   "source": []
  }
 ],
 "metadata": {
  "kernelspec": {
   "display_name": "Environment (conda_tensorflow2_p36)",
   "language": "python",
   "name": "conda_tensorflow2_p36"
  },
  "language_info": {
   "codemirror_mode": {
    "name": "ipython",
    "version": 3
   },
   "file_extension": ".py",
   "mimetype": "text/x-python",
   "name": "python",
   "nbconvert_exporter": "python",
   "pygments_lexer": "ipython3",
   "version": "3.6.10"
  }
 },
 "nbformat": 4,
 "nbformat_minor": 4
}
