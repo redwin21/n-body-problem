{
 "cells": [
  {
   "cell_type": "code",
   "execution_count": 18,
   "metadata": {},
   "outputs": [],
   "source": [
    "import numpy as np\n",
    "import pandas as pd\n",
    "import matplotlib.pyplot as plt\n",
    "import pickle\n",
    "plt.style.use(\"ggplot\")\n",
    "%matplotlib inline"
   ]
  },
  {
   "cell_type": "code",
   "execution_count": 19,
   "metadata": {},
   "outputs": [
    {
     "name": "stdout",
     "output_type": "stream",
     "text": [
      "The autoreload extension is already loaded. To reload it, use:\n",
      "  %reload_ext autoreload\n"
     ]
    }
   ],
   "source": [
    "from transform import get_X_y\n",
    "%load_ext autoreload\n",
    "%autoreload 2"
   ]
  },
  {
   "cell_type": "code",
   "execution_count": 20,
   "metadata": {},
   "outputs": [],
   "source": [
    "## import sklearn modules\n",
    "\n",
    "from sklearn.model_selection import train_test_split, cross_val_score, GridSearchCV\n",
    "from sklearn.preprocessing import StandardScaler\n",
    "from sklearn.pipeline import make_pipeline\n",
    "from sklearn.metrics import mean_squared_error\n",
    "\n",
    "from sklearn.ensemble import GradientBoostingRegressor, RandomForestRegressor\n",
    "from sklearn.multioutput import MultiOutputRegressor"
   ]
  },
  {
   "cell_type": "code",
   "execution_count": 21,
   "metadata": {},
   "outputs": [],
   "source": [
    "orbit2b = pd.read_csv('../data/samples_2_bodies_3_dim_1_m_com.csv')"
   ]
  },
  {
   "cell_type": "code",
   "execution_count": 22,
   "metadata": {},
   "outputs": [
    {
     "data": {
      "text/html": [
       "<div>\n",
       "<style scoped>\n",
       "    .dataframe tbody tr th:only-of-type {\n",
       "        vertical-align: middle;\n",
       "    }\n",
       "\n",
       "    .dataframe tbody tr th {\n",
       "        vertical-align: top;\n",
       "    }\n",
       "\n",
       "    .dataframe thead th {\n",
       "        text-align: right;\n",
       "    }\n",
       "</style>\n",
       "<table border=\"1\" class=\"dataframe\">\n",
       "  <thead>\n",
       "    <tr style=\"text-align: right;\">\n",
       "      <th></th>\n",
       "      <th>sim_id</th>\n",
       "      <th>m_1</th>\n",
       "      <th>m_2</th>\n",
       "      <th>rx_1_0</th>\n",
       "      <th>ry_1_0</th>\n",
       "      <th>rz_1_0</th>\n",
       "      <th>rx_2_0</th>\n",
       "      <th>ry_2_0</th>\n",
       "      <th>rz_2_0</th>\n",
       "      <th>vx_1_0</th>\n",
       "      <th>...</th>\n",
       "      <th>rz_1_1000</th>\n",
       "      <th>rx_2_1000</th>\n",
       "      <th>ry_2_1000</th>\n",
       "      <th>rz_2_1000</th>\n",
       "      <th>vx_1_1000</th>\n",
       "      <th>vy_1_1000</th>\n",
       "      <th>vz_1_1000</th>\n",
       "      <th>vx_2_1000</th>\n",
       "      <th>vy_2_1000</th>\n",
       "      <th>vz_2_1000</th>\n",
       "    </tr>\n",
       "  </thead>\n",
       "  <tbody>\n",
       "    <tr>\n",
       "      <th>0</th>\n",
       "      <td>0.0</td>\n",
       "      <td>1.0</td>\n",
       "      <td>1.0</td>\n",
       "      <td>0.072812</td>\n",
       "      <td>0.339681</td>\n",
       "      <td>0.234807</td>\n",
       "      <td>-0.072812</td>\n",
       "      <td>-0.339681</td>\n",
       "      <td>-0.234807</td>\n",
       "      <td>0.032668</td>\n",
       "      <td>...</td>\n",
       "      <td>0.245414</td>\n",
       "      <td>-0.062839</td>\n",
       "      <td>-0.156803</td>\n",
       "      <td>-0.245414</td>\n",
       "      <td>-0.104210</td>\n",
       "      <td>-0.721673</td>\n",
       "      <td>-0.262195</td>\n",
       "      <td>0.104210</td>\n",
       "      <td>0.721673</td>\n",
       "      <td>0.262195</td>\n",
       "    </tr>\n",
       "    <tr>\n",
       "      <th>1</th>\n",
       "      <td>0.0</td>\n",
       "      <td>1.0</td>\n",
       "      <td>1.0</td>\n",
       "      <td>0.054407</td>\n",
       "      <td>0.105241</td>\n",
       "      <td>0.222055</td>\n",
       "      <td>-0.054407</td>\n",
       "      <td>-0.105241</td>\n",
       "      <td>-0.222055</td>\n",
       "      <td>-0.151459</td>\n",
       "      <td>...</td>\n",
       "      <td>0.001457</td>\n",
       "      <td>-0.017101</td>\n",
       "      <td>-0.250963</td>\n",
       "      <td>-0.001457</td>\n",
       "      <td>0.167632</td>\n",
       "      <td>0.763737</td>\n",
       "      <td>0.546329</td>\n",
       "      <td>-0.167632</td>\n",
       "      <td>-0.763737</td>\n",
       "      <td>-0.546329</td>\n",
       "    </tr>\n",
       "    <tr>\n",
       "      <th>2</th>\n",
       "      <td>0.0</td>\n",
       "      <td>1.0</td>\n",
       "      <td>1.0</td>\n",
       "      <td>0.015466</td>\n",
       "      <td>-0.034834</td>\n",
       "      <td>0.083430</td>\n",
       "      <td>-0.015466</td>\n",
       "      <td>0.034834</td>\n",
       "      <td>-0.083430</td>\n",
       "      <td>-0.452646</td>\n",
       "      <td>...</td>\n",
       "      <td>0.080874</td>\n",
       "      <td>-0.039404</td>\n",
       "      <td>-0.331130</td>\n",
       "      <td>-0.080874</td>\n",
       "      <td>0.128510</td>\n",
       "      <td>0.343728</td>\n",
       "      <td>0.494653</td>\n",
       "      <td>-0.128510</td>\n",
       "      <td>-0.343728</td>\n",
       "      <td>-0.494653</td>\n",
       "    </tr>\n",
       "    <tr>\n",
       "      <th>3</th>\n",
       "      <td>0.0</td>\n",
       "      <td>1.0</td>\n",
       "      <td>1.0</td>\n",
       "      <td>0.060140</td>\n",
       "      <td>0.364899</td>\n",
       "      <td>0.167492</td>\n",
       "      <td>-0.060140</td>\n",
       "      <td>-0.364899</td>\n",
       "      <td>-0.167492</td>\n",
       "      <td>0.083064</td>\n",
       "      <td>...</td>\n",
       "      <td>0.261195</td>\n",
       "      <td>-0.074577</td>\n",
       "      <td>-0.281935</td>\n",
       "      <td>-0.261195</td>\n",
       "      <td>-0.013481</td>\n",
       "      <td>-0.439943</td>\n",
       "      <td>0.074785</td>\n",
       "      <td>0.013481</td>\n",
       "      <td>0.439943</td>\n",
       "      <td>-0.074785</td>\n",
       "    </tr>\n",
       "    <tr>\n",
       "      <th>4</th>\n",
       "      <td>0.0</td>\n",
       "      <td>1.0</td>\n",
       "      <td>1.0</td>\n",
       "      <td>0.017181</td>\n",
       "      <td>0.251330</td>\n",
       "      <td>0.001720</td>\n",
       "      <td>-0.017181</td>\n",
       "      <td>-0.251330</td>\n",
       "      <td>-0.001720</td>\n",
       "      <td>0.167503</td>\n",
       "      <td>...</td>\n",
       "      <td>0.181902</td>\n",
       "      <td>-0.063202</td>\n",
       "      <td>-0.364724</td>\n",
       "      <td>-0.181902</td>\n",
       "      <td>0.074315</td>\n",
       "      <td>-0.030131</td>\n",
       "      <td>0.357845</td>\n",
       "      <td>-0.074315</td>\n",
       "      <td>0.030131</td>\n",
       "      <td>-0.357845</td>\n",
       "    </tr>\n",
       "  </tbody>\n",
       "</table>\n",
       "<p>5 rows × 51 columns</p>\n",
       "</div>"
      ],
      "text/plain": [
       "   sim_id  m_1  m_2    rx_1_0    ry_1_0    rz_1_0    rx_2_0    ry_2_0  \\\n",
       "0     0.0  1.0  1.0  0.072812  0.339681  0.234807 -0.072812 -0.339681   \n",
       "1     0.0  1.0  1.0  0.054407  0.105241  0.222055 -0.054407 -0.105241   \n",
       "2     0.0  1.0  1.0  0.015466 -0.034834  0.083430 -0.015466  0.034834   \n",
       "3     0.0  1.0  1.0  0.060140  0.364899  0.167492 -0.060140 -0.364899   \n",
       "4     0.0  1.0  1.0  0.017181  0.251330  0.001720 -0.017181 -0.251330   \n",
       "\n",
       "     rz_2_0    vx_1_0  ...  rz_1_1000  rx_2_1000  ry_2_1000  rz_2_1000  \\\n",
       "0 -0.234807  0.032668  ...   0.245414  -0.062839  -0.156803  -0.245414   \n",
       "1 -0.222055 -0.151459  ...   0.001457  -0.017101  -0.250963  -0.001457   \n",
       "2 -0.083430 -0.452646  ...   0.080874  -0.039404  -0.331130  -0.080874   \n",
       "3 -0.167492  0.083064  ...   0.261195  -0.074577  -0.281935  -0.261195   \n",
       "4 -0.001720  0.167503  ...   0.181902  -0.063202  -0.364724  -0.181902   \n",
       "\n",
       "   vx_1_1000  vy_1_1000  vz_1_1000  vx_2_1000  vy_2_1000  vz_2_1000  \n",
       "0  -0.104210  -0.721673  -0.262195   0.104210   0.721673   0.262195  \n",
       "1   0.167632   0.763737   0.546329  -0.167632  -0.763737  -0.546329  \n",
       "2   0.128510   0.343728   0.494653  -0.128510  -0.343728  -0.494653  \n",
       "3  -0.013481  -0.439943   0.074785   0.013481   0.439943  -0.074785  \n",
       "4   0.074315  -0.030131   0.357845  -0.074315   0.030131  -0.357845  \n",
       "\n",
       "[5 rows x 51 columns]"
      ]
     },
     "execution_count": 22,
     "metadata": {},
     "output_type": "execute_result"
    }
   ],
   "source": [
    "orbit2b.head()"
   ]
  },
  {
   "cell_type": "code",
   "execution_count": 23,
   "metadata": {},
   "outputs": [],
   "source": [
    "model = MultiOutputRegressor(GradientBoostingRegressor(n_estimators=100,\n",
    "                                                        max_depth=10,\n",
    "                                                        learning_rate=0.05)\n",
    "                             , n_jobs=-1)"
   ]
  },
  {
   "cell_type": "code",
   "execution_count": 24,
   "metadata": {},
   "outputs": [],
   "source": [
    "steps = 10\n",
    "X, y = get_X_y(orbit2b, steps, False, True)"
   ]
  },
  {
   "cell_type": "code",
   "execution_count": 25,
   "metadata": {},
   "outputs": [],
   "source": [
    "X_train, X_test, y_train, y_test = train_test_split(X, y)"
   ]
  },
  {
   "cell_type": "code",
   "execution_count": 26,
   "metadata": {},
   "outputs": [],
   "source": [
    "model.fit(X_train, y_train);"
   ]
  },
  {
   "cell_type": "code",
   "execution_count": 27,
   "metadata": {},
   "outputs": [],
   "source": [
    "y_pred = model.predict(X_test)"
   ]
  },
  {
   "cell_type": "code",
   "execution_count": 28,
   "metadata": {},
   "outputs": [],
   "source": [
    "error_10 = np.sqrt(mean_squared_error(y_test, y_pred, multioutput='raw_values'))"
   ]
  },
  {
   "cell_type": "code",
   "execution_count": 29,
   "metadata": {},
   "outputs": [
    {
     "name": "stdout",
     "output_type": "stream",
     "text": [
      "10 [0.03104747 0.03258146 0.03231733 0.31189676 0.30106    0.28878215]\n"
     ]
    }
   ],
   "source": [
    "print(steps, error_10)"
   ]
  },
  {
   "cell_type": "code",
   "execution_count": 30,
   "metadata": {},
   "outputs": [
    {
     "data": {
      "text/plain": [
       "(array([-0.74165933,  0.14831442,  0.71137436,  0.28519114, -0.42734128,\n",
       "         0.4540127 ]),\n",
       " array([-0.73797076,  0.14163549,  0.71014875,  0.26978724, -0.42278812,\n",
       "         0.47388515]))"
      ]
     },
     "execution_count": 30,
     "metadata": {},
     "output_type": "execute_result"
    }
   ],
   "source": [
    "y_test[0], y_pred[0]"
   ]
  },
  {
   "cell_type": "code",
   "execution_count": 31,
   "metadata": {},
   "outputs": [],
   "source": [
    "steps = 100\n",
    "X, y = get_X_y(orbit2b, steps, False, True)"
   ]
  },
  {
   "cell_type": "code",
   "execution_count": 32,
   "metadata": {},
   "outputs": [],
   "source": [
    "X_train, X_test, y_train, y_test = train_test_split(X, y)"
   ]
  },
  {
   "cell_type": "code",
   "execution_count": 33,
   "metadata": {},
   "outputs": [],
   "source": [
    "model.fit(X_train, y_train);"
   ]
  },
  {
   "cell_type": "code",
   "execution_count": 34,
   "metadata": {},
   "outputs": [],
   "source": [
    "y_pred = model.predict(X_test)"
   ]
  },
  {
   "cell_type": "code",
   "execution_count": 35,
   "metadata": {},
   "outputs": [],
   "source": [
    "error_100 = np.sqrt(mean_squared_error(y_test, y_pred, multioutput='raw_values'))"
   ]
  },
  {
   "cell_type": "code",
   "execution_count": 36,
   "metadata": {},
   "outputs": [
    {
     "name": "stdout",
     "output_type": "stream",
     "text": [
      "100 [0.14734377 0.14359409 0.14752757 0.55533449 0.57400712 0.55977747]\n"
     ]
    }
   ],
   "source": [
    "print(steps, error_100)"
   ]
  },
  {
   "cell_type": "code",
   "execution_count": 37,
   "metadata": {},
   "outputs": [
    {
     "data": {
      "text/plain": [
       "(array([ 0.36830901, -0.24293999, -0.70442531,  0.58837507,  0.12665705,\n",
       "        -1.16203217]),\n",
       " array([-0.0166423 ,  0.03831879, -0.18481807,  0.59860548, -0.58160101,\n",
       "        -0.99345631]))"
      ]
     },
     "execution_count": 37,
     "metadata": {},
     "output_type": "execute_result"
    }
   ],
   "source": [
    "y_test[0], y_pred[0]"
   ]
  },
  {
   "cell_type": "code",
   "execution_count": 38,
   "metadata": {},
   "outputs": [],
   "source": [
    "steps = 1000\n",
    "X, y = get_X_y(orbit2b, steps, False, True)"
   ]
  },
  {
   "cell_type": "code",
   "execution_count": 39,
   "metadata": {},
   "outputs": [],
   "source": [
    "X_train, X_test, y_train, y_test = train_test_split(X, y)"
   ]
  },
  {
   "cell_type": "code",
   "execution_count": 40,
   "metadata": {},
   "outputs": [],
   "source": [
    "model.fit(X_train, y_train);"
   ]
  },
  {
   "cell_type": "code",
   "execution_count": 41,
   "metadata": {},
   "outputs": [],
   "source": [
    "y_pred = model.predict(X_test)"
   ]
  },
  {
   "cell_type": "code",
   "execution_count": 42,
   "metadata": {},
   "outputs": [],
   "source": [
    "error_1000 = np.sqrt(mean_squared_error(y_test, y_pred, multioutput='raw_values'))"
   ]
  },
  {
   "cell_type": "code",
   "execution_count": 43,
   "metadata": {},
   "outputs": [
    {
     "name": "stdout",
     "output_type": "stream",
     "text": [
      "1000 [0.62596037 0.62695205 0.63112552 0.73196143 0.72423097 0.70729221]\n"
     ]
    }
   ],
   "source": [
    "print(steps, error_1000)"
   ]
  },
  {
   "cell_type": "code",
   "execution_count": 44,
   "metadata": {},
   "outputs": [
    {
     "data": {
      "text/plain": [
       "(array([17.75481736, -1.11123136,  8.26362541,  0.58694654,  0.08725069,\n",
       "         0.25774253]),\n",
       " array([17.67826472, -1.13529685,  8.230423  ,  0.55967471,  0.04261316,\n",
       "         0.24207471]))"
      ]
     },
     "execution_count": 44,
     "metadata": {},
     "output_type": "execute_result"
    }
   ],
   "source": [
    "y_test[0], y_pred[0]"
   ]
  },
  {
   "cell_type": "code",
   "execution_count": 45,
   "metadata": {},
   "outputs": [
    {
     "name": "stdout",
     "output_type": "stream",
     "text": [
      "0.03198208649896947 0.300579637723342\n",
      "0.14615514408441144 0.5630396941670982\n",
      "0.6280126451762782 0.7211615388886904\n"
     ]
    }
   ],
   "source": [
    "print(np.mean(error_10[:3]), np.mean(error_10[3:]))\n",
    "print(np.mean(error_100[:3]), np.mean(error_100[3:]))\n",
    "print(np.mean(error_1000[:3]), np.mean(error_1000[3:]))"
   ]
  },
  {
   "cell_type": "code",
   "execution_count": null,
   "metadata": {},
   "outputs": [],
   "source": []
  }
 ],
 "metadata": {
  "kernelspec": {
   "display_name": "Environment (conda_tensorflow2_p36)",
   "language": "python",
   "name": "conda_tensorflow2_p36"
  },
  "language_info": {
   "codemirror_mode": {
    "name": "ipython",
    "version": 3
   },
   "file_extension": ".py",
   "mimetype": "text/x-python",
   "name": "python",
   "nbconvert_exporter": "python",
   "pygments_lexer": "ipython3",
   "version": "3.6.10"
  }
 },
 "nbformat": 4,
 "nbformat_minor": 4
}
