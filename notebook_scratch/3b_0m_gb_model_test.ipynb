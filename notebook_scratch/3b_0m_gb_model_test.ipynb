{
 "cells": [
  {
   "cell_type": "code",
   "execution_count": 1,
   "metadata": {},
   "outputs": [],
   "source": [
    "import numpy as np\n",
    "import pandas as pd\n",
    "import matplotlib.pyplot as plt\n",
    "import pickle\n",
    "plt.style.use(\"ggplot\")\n",
    "%matplotlib inline"
   ]
  },
  {
   "cell_type": "code",
   "execution_count": 2,
   "metadata": {},
   "outputs": [],
   "source": [
    "from transform import get_X_y\n",
    "%load_ext autoreload\n",
    "%autoreload 2"
   ]
  },
  {
   "cell_type": "code",
   "execution_count": 3,
   "metadata": {},
   "outputs": [],
   "source": [
    "## import sklearn modules\n",
    "\n",
    "from sklearn.model_selection import train_test_split, cross_val_score, GridSearchCV\n",
    "from sklearn.preprocessing import StandardScaler\n",
    "from sklearn.pipeline import make_pipeline\n",
    "from sklearn.metrics import mean_squared_error\n",
    "\n",
    "from sklearn.ensemble import GradientBoostingRegressor, RandomForestRegressor\n",
    "from sklearn.multioutput import MultiOutputRegressor"
   ]
  },
  {
   "cell_type": "code",
   "execution_count": 4,
   "metadata": {},
   "outputs": [],
   "source": [
    "orbit3b = pd.read_csv('../data/samples_3_bodies_3_dim_0_m_com.csv')"
   ]
  },
  {
   "cell_type": "code",
   "execution_count": 5,
   "metadata": {},
   "outputs": [
    {
     "data": {
      "text/html": [
       "<div>\n",
       "<style scoped>\n",
       "    .dataframe tbody tr th:only-of-type {\n",
       "        vertical-align: middle;\n",
       "    }\n",
       "\n",
       "    .dataframe tbody tr th {\n",
       "        vertical-align: top;\n",
       "    }\n",
       "\n",
       "    .dataframe thead th {\n",
       "        text-align: right;\n",
       "    }\n",
       "</style>\n",
       "<table border=\"1\" class=\"dataframe\">\n",
       "  <thead>\n",
       "    <tr style=\"text-align: right;\">\n",
       "      <th></th>\n",
       "      <th>sim_id</th>\n",
       "      <th>m_1</th>\n",
       "      <th>m_2</th>\n",
       "      <th>m_3</th>\n",
       "      <th>rx_1_0</th>\n",
       "      <th>ry_1_0</th>\n",
       "      <th>rz_1_0</th>\n",
       "      <th>rx_2_0</th>\n",
       "      <th>ry_2_0</th>\n",
       "      <th>rz_2_0</th>\n",
       "      <th>...</th>\n",
       "      <th>rz_3_1000</th>\n",
       "      <th>vx_1_1000</th>\n",
       "      <th>vy_1_1000</th>\n",
       "      <th>vz_1_1000</th>\n",
       "      <th>vx_2_1000</th>\n",
       "      <th>vy_2_1000</th>\n",
       "      <th>vz_2_1000</th>\n",
       "      <th>vx_3_1000</th>\n",
       "      <th>vy_3_1000</th>\n",
       "      <th>vz_3_1000</th>\n",
       "    </tr>\n",
       "  </thead>\n",
       "  <tbody>\n",
       "    <tr>\n",
       "      <th>0</th>\n",
       "      <td>0.0</td>\n",
       "      <td>1.612215</td>\n",
       "      <td>2.697331</td>\n",
       "      <td>2.113259</td>\n",
       "      <td>-2.296006</td>\n",
       "      <td>2.877565</td>\n",
       "      <td>-9.170347</td>\n",
       "      <td>0.706297</td>\n",
       "      <td>-0.899724</td>\n",
       "      <td>3.160373</td>\n",
       "      <td>...</td>\n",
       "      <td>3.475327</td>\n",
       "      <td>-0.083728</td>\n",
       "      <td>-0.005456</td>\n",
       "      <td>-0.182062</td>\n",
       "      <td>-0.644452</td>\n",
       "      <td>0.732823</td>\n",
       "      <td>1.021511</td>\n",
       "      <td>0.886446</td>\n",
       "      <td>-0.931201</td>\n",
       "      <td>-1.164945</td>\n",
       "    </tr>\n",
       "    <tr>\n",
       "      <th>1</th>\n",
       "      <td>0.0</td>\n",
       "      <td>1.612215</td>\n",
       "      <td>2.697331</td>\n",
       "      <td>2.113259</td>\n",
       "      <td>-0.833236</td>\n",
       "      <td>2.025081</td>\n",
       "      <td>-4.682410</td>\n",
       "      <td>0.218571</td>\n",
       "      <td>-0.615884</td>\n",
       "      <td>1.653333</td>\n",
       "      <td>...</td>\n",
       "      <td>2.564054</td>\n",
       "      <td>-0.142035</td>\n",
       "      <td>0.065775</td>\n",
       "      <td>-0.412336</td>\n",
       "      <td>-0.434259</td>\n",
       "      <td>0.539911</td>\n",
       "      <td>0.856111</td>\n",
       "      <td>0.662640</td>\n",
       "      <td>-0.739314</td>\n",
       "      <td>-0.778154</td>\n",
       "    </tr>\n",
       "    <tr>\n",
       "      <th>2</th>\n",
       "      <td>0.0</td>\n",
       "      <td>1.612215</td>\n",
       "      <td>2.697331</td>\n",
       "      <td>2.113259</td>\n",
       "      <td>-1.386685</td>\n",
       "      <td>2.451587</td>\n",
       "      <td>-6.523806</td>\n",
       "      <td>0.407949</td>\n",
       "      <td>-0.761911</td>\n",
       "      <td>2.265831</td>\n",
       "      <td>...</td>\n",
       "      <td>2.923653</td>\n",
       "      <td>-0.120877</td>\n",
       "      <td>0.036916</td>\n",
       "      <td>-0.324624</td>\n",
       "      <td>-0.367041</td>\n",
       "      <td>0.482402</td>\n",
       "      <td>0.731627</td>\n",
       "      <td>0.560703</td>\n",
       "      <td>-0.643894</td>\n",
       "      <td>-0.686181</td>\n",
       "    </tr>\n",
       "    <tr>\n",
       "      <th>3</th>\n",
       "      <td>0.0</td>\n",
       "      <td>1.612215</td>\n",
       "      <td>2.697331</td>\n",
       "      <td>2.113259</td>\n",
       "      <td>-1.704009</td>\n",
       "      <td>2.637154</td>\n",
       "      <td>-7.498272</td>\n",
       "      <td>0.517432</td>\n",
       "      <td>-0.837350</td>\n",
       "      <td>2.580210</td>\n",
       "      <td>...</td>\n",
       "      <td>3.123465</td>\n",
       "      <td>-0.108443</td>\n",
       "      <td>0.021664</td>\n",
       "      <td>-0.275432</td>\n",
       "      <td>0.570784</td>\n",
       "      <td>-0.428765</td>\n",
       "      <td>-0.544556</td>\n",
       "      <td>-0.645808</td>\n",
       "      <td>0.530742</td>\n",
       "      <td>0.905192</td>\n",
       "    </tr>\n",
       "    <tr>\n",
       "      <th>4</th>\n",
       "      <td>0.0</td>\n",
       "      <td>1.612215</td>\n",
       "      <td>2.697331</td>\n",
       "      <td>2.113259</td>\n",
       "      <td>-2.050488</td>\n",
       "      <td>2.794998</td>\n",
       "      <td>-8.500527</td>\n",
       "      <td>0.619787</td>\n",
       "      <td>-0.874291</td>\n",
       "      <td>2.936525</td>\n",
       "      <td>...</td>\n",
       "      <td>3.362595</td>\n",
       "      <td>-0.094319</td>\n",
       "      <td>0.005680</td>\n",
       "      <td>-0.221403</td>\n",
       "      <td>1.123254</td>\n",
       "      <td>-1.029775</td>\n",
       "      <td>-1.358825</td>\n",
       "      <td>-1.361748</td>\n",
       "      <td>1.310056</td>\n",
       "      <td>1.903292</td>\n",
       "    </tr>\n",
       "  </tbody>\n",
       "</table>\n",
       "<p>5 rows × 76 columns</p>\n",
       "</div>"
      ],
      "text/plain": [
       "   sim_id       m_1       m_2       m_3    rx_1_0    ry_1_0    rz_1_0  \\\n",
       "0     0.0  1.612215  2.697331  2.113259 -2.296006  2.877565 -9.170347   \n",
       "1     0.0  1.612215  2.697331  2.113259 -0.833236  2.025081 -4.682410   \n",
       "2     0.0  1.612215  2.697331  2.113259 -1.386685  2.451587 -6.523806   \n",
       "3     0.0  1.612215  2.697331  2.113259 -1.704009  2.637154 -7.498272   \n",
       "4     0.0  1.612215  2.697331  2.113259 -2.050488  2.794998 -8.500527   \n",
       "\n",
       "     rx_2_0    ry_2_0    rz_2_0  ...  rz_3_1000  vx_1_1000  vy_1_1000  \\\n",
       "0  0.706297 -0.899724  3.160373  ...   3.475327  -0.083728  -0.005456   \n",
       "1  0.218571 -0.615884  1.653333  ...   2.564054  -0.142035   0.065775   \n",
       "2  0.407949 -0.761911  2.265831  ...   2.923653  -0.120877   0.036916   \n",
       "3  0.517432 -0.837350  2.580210  ...   3.123465  -0.108443   0.021664   \n",
       "4  0.619787 -0.874291  2.936525  ...   3.362595  -0.094319   0.005680   \n",
       "\n",
       "   vz_1_1000  vx_2_1000  vy_2_1000  vz_2_1000  vx_3_1000  vy_3_1000  vz_3_1000  \n",
       "0  -0.182062  -0.644452   0.732823   1.021511   0.886446  -0.931201  -1.164945  \n",
       "1  -0.412336  -0.434259   0.539911   0.856111   0.662640  -0.739314  -0.778154  \n",
       "2  -0.324624  -0.367041   0.482402   0.731627   0.560703  -0.643894  -0.686181  \n",
       "3  -0.275432   0.570784  -0.428765  -0.544556  -0.645808   0.530742   0.905192  \n",
       "4  -0.221403   1.123254  -1.029775  -1.358825  -1.361748   1.310056   1.903292  \n",
       "\n",
       "[5 rows x 76 columns]"
      ]
     },
     "execution_count": 5,
     "metadata": {},
     "output_type": "execute_result"
    }
   ],
   "source": [
    "orbit3b.head()"
   ]
  },
  {
   "cell_type": "code",
   "execution_count": 6,
   "metadata": {},
   "outputs": [],
   "source": [
    "model = MultiOutputRegressor(GradientBoostingRegressor(n_estimators=100,\n",
    "                                                        max_depth=10,\n",
    "                                                        learning_rate=0.05)\n",
    "                             , n_jobs=-1)"
   ]
  },
  {
   "cell_type": "code",
   "execution_count": 7,
   "metadata": {},
   "outputs": [],
   "source": [
    "steps = 10\n",
    "X, y = get_X_y(orbit3b, steps, True, True)"
   ]
  },
  {
   "cell_type": "code",
   "execution_count": 8,
   "metadata": {},
   "outputs": [],
   "source": [
    "X_train, X_test, y_train, y_test = train_test_split(X, y)"
   ]
  },
  {
   "cell_type": "code",
   "execution_count": 9,
   "metadata": {},
   "outputs": [],
   "source": [
    "model.fit(X_train, y_train);"
   ]
  },
  {
   "cell_type": "code",
   "execution_count": 10,
   "metadata": {},
   "outputs": [],
   "source": [
    "y_pred = model.predict(X_test)"
   ]
  },
  {
   "cell_type": "code",
   "execution_count": 11,
   "metadata": {},
   "outputs": [],
   "source": [
    "error_10 = np.sqrt(mean_squared_error(y_test, y_pred, multioutput='raw_values'))"
   ]
  },
  {
   "cell_type": "code",
   "execution_count": 12,
   "metadata": {},
   "outputs": [
    {
     "name": "stdout",
     "output_type": "stream",
     "text": [
      "10 [0.10634406 0.13081029 0.09983919 0.11668779 0.12558851 0.10233444\n",
      " 1.2460882  1.26835304 1.28346494 1.24455724 1.32063099 1.29342852]\n"
     ]
    }
   ],
   "source": [
    "print(steps, error_10)"
   ]
  },
  {
   "cell_type": "code",
   "execution_count": 13,
   "metadata": {},
   "outputs": [
    {
     "data": {
      "text/plain": [
       "(array([-0.0212074 ,  0.05786918,  0.10340571,  6.35841785, -5.05974478,\n",
       "         2.08707043,  4.48820263,  1.4403444 ,  4.63768072,  4.0429869 ,\n",
       "        -0.42092539,  2.9614225 ]),\n",
       " array([ 1.24900654e-01, -2.56851984e-03,  5.99461044e-02,  6.40250199e+00,\n",
       "        -5.03837826e+00,  2.07413678e+00,  3.53615256e+00,  2.15859639e-01,\n",
       "         1.15461490e+00,  2.51089281e+00, -1.34723055e+00,  2.17838316e+00]))"
      ]
     },
     "execution_count": 13,
     "metadata": {},
     "output_type": "execute_result"
    }
   ],
   "source": [
    "y_test[0], y_pred[0]"
   ]
  },
  {
   "cell_type": "code",
   "execution_count": 14,
   "metadata": {},
   "outputs": [],
   "source": [
    "steps = 100\n",
    "X, y = get_X_y(orbit3b, steps, True, True)"
   ]
  },
  {
   "cell_type": "code",
   "execution_count": 15,
   "metadata": {},
   "outputs": [],
   "source": [
    "X_train, X_test, y_train, y_test = train_test_split(X, y)"
   ]
  },
  {
   "cell_type": "code",
   "execution_count": 16,
   "metadata": {},
   "outputs": [],
   "source": [
    "model.fit(X_train, y_train);"
   ]
  },
  {
   "cell_type": "code",
   "execution_count": 17,
   "metadata": {},
   "outputs": [],
   "source": [
    "y_pred = model.predict(X_test)"
   ]
  },
  {
   "cell_type": "code",
   "execution_count": 18,
   "metadata": {},
   "outputs": [],
   "source": [
    "error_100 = np.sqrt(mean_squared_error(y_test, y_pred, multioutput='raw_values'))"
   ]
  },
  {
   "cell_type": "code",
   "execution_count": 19,
   "metadata": {},
   "outputs": [
    {
     "name": "stdout",
     "output_type": "stream",
     "text": [
      "100 [0.42339271 0.43901707 0.43301599 0.41831902 0.42988443 0.43844981\n",
      " 1.75490266 1.69710654 1.71512836 1.74257057 1.76328146 1.75297329]\n"
     ]
    }
   ],
   "source": [
    "print(steps, error_100)"
   ]
  },
  {
   "cell_type": "code",
   "execution_count": 20,
   "metadata": {},
   "outputs": [
    {
     "data": {
      "text/plain": [
       "(array([ 0.65854114, -0.44599993, -0.0143216 ,  0.36742115, -0.25321638,\n",
       "        -0.29682612, -4.21227887,  0.31452547, -1.54282593, -1.06804264,\n",
       "         3.53574915, -3.02605914]),\n",
       " array([ 0.83490599, -0.07289022,  0.17358697,  0.65795846, -0.75142212,\n",
       "         0.39506493, -0.3854041 , -0.12283646, -0.07829692, -0.81251712,\n",
       "         0.04893581, -0.88141298]))"
      ]
     },
     "execution_count": 20,
     "metadata": {},
     "output_type": "execute_result"
    }
   ],
   "source": [
    "y_test[0], y_pred[0]"
   ]
  },
  {
   "cell_type": "code",
   "execution_count": 21,
   "metadata": {},
   "outputs": [],
   "source": [
    "steps = 1000\n",
    "X, y = get_X_y(orbit3b, steps, True, True)"
   ]
  },
  {
   "cell_type": "code",
   "execution_count": 22,
   "metadata": {},
   "outputs": [],
   "source": [
    "X_train, X_test, y_train, y_test = train_test_split(X, y)"
   ]
  },
  {
   "cell_type": "code",
   "execution_count": 23,
   "metadata": {},
   "outputs": [],
   "source": [
    "model.fit(X_train, y_train);"
   ]
  },
  {
   "cell_type": "code",
   "execution_count": 24,
   "metadata": {},
   "outputs": [],
   "source": [
    "y_pred = model.predict(X_test)"
   ]
  },
  {
   "cell_type": "code",
   "execution_count": 25,
   "metadata": {},
   "outputs": [],
   "source": [
    "error_1000 = np.sqrt(mean_squared_error(y_test, y_pred, multioutput='raw_values'))"
   ]
  },
  {
   "cell_type": "code",
   "execution_count": 26,
   "metadata": {},
   "outputs": [
    {
     "name": "stdout",
     "output_type": "stream",
     "text": [
      "1000 [2.30088161 2.55027064 2.56757207 2.25216087 2.5359357  2.49565635\n",
      " 1.90371438 1.85801274 1.90176437 1.84061523 1.82529477 1.85392456]\n"
     ]
    }
   ],
   "source": [
    "print(steps, error_1000)"
   ]
  },
  {
   "cell_type": "code",
   "execution_count": 27,
   "metadata": {},
   "outputs": [
    {
     "data": {
      "text/plain": [
       "(array([ 2.3540578 ,  3.57844179,  5.09628087,  2.24048452,  3.28154838,\n",
       "         4.4641659 ,  0.01592813,  0.76355449, -1.44826402,  0.9359095 ,\n",
       "        -0.41764359,  0.73081706]),\n",
       " array([-0.60185522, -0.79550052,  0.31063126, -0.29793796,  0.06320216,\n",
       "         0.02928218, -0.23171262, -1.1995528 , -0.03307144, -0.20304   ,\n",
       "        -0.2515698 ,  0.44507425]))"
      ]
     },
     "execution_count": 27,
     "metadata": {},
     "output_type": "execute_result"
    }
   ],
   "source": [
    "y_test[0], y_pred[0]"
   ]
  },
  {
   "cell_type": "code",
   "execution_count": 29,
   "metadata": {},
   "outputs": [
    {
     "name": "stdout",
     "output_type": "stream",
     "text": [
      "0.1136007140203839 1.2760871537216776\n",
      "0.43034650674835967 1.7376604816844348\n",
      "2.450412875215651 1.8638876745654425\n"
     ]
    }
   ],
   "source": [
    "print(np.mean(error_10[:6]), np.mean(error_10[6:]))\n",
    "print(np.mean(error_100[:6]), np.mean(error_100[6:]))\n",
    "print(np.mean(error_1000[:6]), np.mean(error_1000[6:]))"
   ]
  },
  {
   "cell_type": "code",
   "execution_count": null,
   "metadata": {},
   "outputs": [],
   "source": []
  }
 ],
 "metadata": {
  "kernelspec": {
   "display_name": "Environment (conda_tensorflow2_p36)",
   "language": "python",
   "name": "conda_tensorflow2_p36"
  },
  "language_info": {
   "codemirror_mode": {
    "name": "ipython",
    "version": 3
   },
   "file_extension": ".py",
   "mimetype": "text/x-python",
   "name": "python",
   "nbconvert_exporter": "python",
   "pygments_lexer": "ipython3",
   "version": "3.6.10"
  }
 },
 "nbformat": 4,
 "nbformat_minor": 4
}
