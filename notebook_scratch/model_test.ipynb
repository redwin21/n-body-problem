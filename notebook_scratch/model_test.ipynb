{
 "cells": [
  {
   "cell_type": "code",
   "execution_count": 2,
   "metadata": {},
   "outputs": [],
   "source": [
    "import numpy as np\n",
    "import pandas as pd\n",
    "import pickle\n",
    "from transform import get_X_y, transform_X_y, inverse_transform_X_y, normalize\n",
    "from model_generator import *\n",
    "\n",
    "from sklearn.model_selection import train_test_split, cross_val_score, GridSearchCV\n",
    "from sklearn.preprocessing import StandardScaler\n",
    "from sklearn.pipeline import make_pipeline\n",
    "from sklearn.metrics import mean_squared_error\n",
    "from sklearn.ensemble import GradientBoostingRegressor, RandomForestRegressor\n",
    "from sklearn.multioutput import MultiOutputRegressor\n",
    "\n",
    "%load_ext autoreload\n",
    "%autoreload 2"
   ]
  },
  {
   "cell_type": "code",
   "execution_count": 4,
   "metadata": {},
   "outputs": [],
   "source": [
    "with open('models/samples_2_bodies_3_dim_1_m_com_steps_10.pkl', 'rb') as f:\n",
    "        model = pickle.load(f)"
   ]
  },
  {
   "cell_type": "code",
   "execution_count": 5,
   "metadata": {},
   "outputs": [],
   "source": [
    "orbit2b = pd.read_csv('../data/samples_2_bodies_3_dim_1_m_com.csv')\n",
    "orbit3b = pd.read_csv('../data/samples_3_bodies_3_dim_1_m_com.csv')\n",
    "X, y = get_X_y(orbit2b, 10, False, False)"
   ]
  },
  {
   "cell_type": "code",
   "execution_count": 6,
   "metadata": {},
   "outputs": [
    {
     "data": {
      "text/plain": [
       "(200000, 12)"
      ]
     },
     "execution_count": 6,
     "metadata": {},
     "output_type": "execute_result"
    }
   ],
   "source": [
    "X.shape"
   ]
  },
  {
   "cell_type": "code",
   "execution_count": 7,
   "metadata": {},
   "outputs": [
    {
     "data": {
      "text/plain": [
       "array([[ 0.07474344,  0.32197119,  0.24845967, -0.07474344, -0.32197119,\n",
       "        -0.24845967,  0.02086157, -0.30987158,  0.18927366, -0.02086157,\n",
       "         0.30987158, -0.18927366],\n",
       "       [ 0.04272328,  0.05166464,  0.18814773, -0.04272328, -0.05166464,\n",
       "        -0.18814773, -0.23017878, -0.94358926, -0.72547127,  0.23017878,\n",
       "         0.94358926,  0.72547127]])"
      ]
     },
     "execution_count": 7,
     "metadata": {},
     "output_type": "execute_result"
    }
   ],
   "source": [
    "inverse_transform_X_y(model.predict_(transform_X_y(X[:2,:],2, False), transform=False), 2, False)"
   ]
  },
  {
   "cell_type": "code",
   "execution_count": 8,
   "metadata": {},
   "outputs": [
    {
     "data": {
      "text/plain": [
       "(array([[ 0.07281155,  0.33968053,  0.23480664, -0.07281155, -0.33968053,\n",
       "         -0.23480664,  0.03266844, -0.2460071 ,  0.23030966, -0.03266844,\n",
       "          0.2460071 , -0.23030966],\n",
       "        [ 0.05440708,  0.10524137,  0.2220554 , -0.05440708, -0.10524137,\n",
       "         -0.2220554 , -0.1514587 , -0.82615856, -0.45092904,  0.1514587 ,\n",
       "          0.82615856,  0.45092904]]),\n",
       " array([[ 0.07431854,  0.32285098,  0.24714994, -0.07431854, -0.32285098,\n",
       "         -0.24714994,  0.01739261, -0.31477706,  0.18026482, -0.01739261,\n",
       "          0.31477706, -0.18026482],\n",
       "        [ 0.04353645,  0.05263279,  0.1875935 , -0.04353645, -0.05263279,\n",
       "         -0.1875935 , -0.21588262, -0.92730709, -0.72122765,  0.21588262,\n",
       "          0.92730709,  0.72122765]]))"
      ]
     },
     "execution_count": 8,
     "metadata": {},
     "output_type": "execute_result"
    }
   ],
   "source": [
    "X[:2,:], y[:2,:]"
   ]
  },
  {
   "cell_type": "code",
   "execution_count": 9,
   "metadata": {},
   "outputs": [
    {
     "data": {
      "text/plain": [
       "array([[ 0.07474344,  0.32197119,  0.24845967, -0.07474344, -0.32197119,\n",
       "        -0.24845967,  0.02086157, -0.30987158,  0.18927366, -0.02086157,\n",
       "         0.30987158, -0.18927366],\n",
       "       [ 0.04272328,  0.05166464,  0.18814773, -0.04272328, -0.05166464,\n",
       "        -0.18814773, -0.23017878, -0.94358926, -0.72547127,  0.23017878,\n",
       "         0.94358926,  0.72547127],\n",
       "       [-0.01058978,  0.00587578, -0.05521186,  0.01058978, -0.00587578,\n",
       "         0.05521186, -0.03625975,  2.55479492, -1.02126024,  0.03625975,\n",
       "        -2.55479492,  1.02126024],\n",
       "       [ 0.06441785,  0.36384492,  0.18951782, -0.06441785, -0.36384492,\n",
       "        -0.18951782,  0.07050194, -0.04791103,  0.34203084, -0.07050194,\n",
       "         0.04791103, -0.34203084],\n",
       "       [ 0.02493268,  0.29053696,  0.03421593, -0.02493268, -0.29053696,\n",
       "        -0.03421593,  0.14011535,  0.53750679,  0.5169081 , -0.14011535,\n",
       "        -0.53750679, -0.5169081 ]])"
      ]
     },
     "execution_count": 9,
     "metadata": {},
     "output_type": "execute_result"
    }
   ],
   "source": [
    "model.predict_(X[:5,:], True)"
   ]
  },
  {
   "cell_type": "code",
   "execution_count": 12,
   "metadata": {},
   "outputs": [
    {
     "name": "stdout",
     "output_type": "stream",
     "text": [
      "10 [0.00455876 0.00452567 0.00556135 0.12704561 0.14612411 0.14423431]\n"
     ]
    }
   ],
   "source": [
    "steps = 10\n",
    "with open(f'models/samples_2_bodies_3_dim_1_m_com_steps_{steps}.pkl', 'rb') as f:\n",
    "        model = pickle.load(f)\n",
    "X, y = get_X_y(orbit2b, steps, False, True)\n",
    "X_train, X_test, y_train, y_test = train_test_split(X, y)\n",
    "y_pred = model.model.predict(X_test)\n",
    "error_10 = np.sqrt(mean_squared_error(y_test, y_pred, multioutput='raw_values'))\n",
    "print(steps, error_10)"
   ]
  },
  {
   "cell_type": "code",
   "execution_count": 13,
   "metadata": {},
   "outputs": [
    {
     "name": "stdout",
     "output_type": "stream",
     "text": [
      "100 [0.04399322 0.0420881  0.04289333 0.24628244 0.24927763 0.25705739]\n"
     ]
    }
   ],
   "source": [
    "steps = 100\n",
    "with open(f'models/samples_2_bodies_3_dim_1_m_com_steps_{steps}.pkl', 'rb') as f:\n",
    "        model = pickle.load(f)\n",
    "X, y = get_X_y(orbit2b, steps, False, True)\n",
    "X_train, X_test, y_train, y_test = train_test_split(X, y)\n",
    "y_pred = model.model.predict(X_test)\n",
    "error_100 = np.sqrt(mean_squared_error(y_test, y_pred, multioutput='raw_values'))\n",
    "print(steps, error_100)"
   ]
  },
  {
   "cell_type": "code",
   "execution_count": 14,
   "metadata": {},
   "outputs": [
    {
     "name": "stdout",
     "output_type": "stream",
     "text": [
      "1000 [0.28388727 0.27754945 0.28471449 0.4171989  0.38611885 0.39247118]\n"
     ]
    }
   ],
   "source": [
    "steps = 1000\n",
    "with open(f'models/samples_2_bodies_3_dim_1_m_com_steps_{steps}.pkl', 'rb') as f:\n",
    "        model = pickle.load(f)\n",
    "X, y = get_X_y(orbit2b, steps, False, True)\n",
    "X_train, X_test, y_train, y_test = train_test_split(X, y)\n",
    "y_pred = model.model.predict(X_test)\n",
    "error_1000 = np.sqrt(mean_squared_error(y_test, y_pred, multioutput='raw_values'))\n",
    "print(steps, error_1000)"
   ]
  },
  {
   "cell_type": "code",
   "execution_count": 15,
   "metadata": {},
   "outputs": [
    {
     "name": "stdout",
     "output_type": "stream",
     "text": [
      "0.004881923709180418 0.1391346778969551\n",
      "0.04299154917672209 0.25087248665547307\n",
      "0.282050401885859 0.39859631241614507\n"
     ]
    }
   ],
   "source": [
    "print(np.mean(error_10[:3]), np.mean(error_10[3:]))\n",
    "print(np.mean(error_100[:3]), np.mean(error_100[3:]))\n",
    "print(np.mean(error_1000[:3]), np.mean(error_1000[3:]))"
   ]
  },
  {
   "cell_type": "code",
   "execution_count": 16,
   "metadata": {},
   "outputs": [
    {
     "name": "stdout",
     "output_type": "stream",
     "text": [
      "10 [0.01603221 0.01229054 0.01395293 0.01205946 0.02255378 0.01477757\n",
      " 0.30041003 0.29883968 0.29936034 0.30597207 0.29864632 0.30352955]\n"
     ]
    }
   ],
   "source": [
    "steps = 10\n",
    "with open(f'models/samples_3_bodies_3_dim_1_m_com_steps_{steps}.pkl', 'rb') as f:\n",
    "        model = pickle.load(f)\n",
    "X, y = get_X_y(orbit3b, steps, False, True)\n",
    "X_train, X_test, y_train, y_test = train_test_split(X, y)\n",
    "y_pred = model.model.predict(X_test)\n",
    "error_10 = np.sqrt(mean_squared_error(y_test, y_pred, multioutput='raw_values'))\n",
    "print(steps, error_10)"
   ]
  },
  {
   "cell_type": "code",
   "execution_count": 17,
   "metadata": {},
   "outputs": [
    {
     "name": "stdout",
     "output_type": "stream",
     "text": [
      "100 [0.12531597 0.12254568 0.12318866 0.12656833 0.12529059 0.12487603\n",
      " 0.589446   0.59905826 0.60049995 0.60803684 0.62860002 0.61340049]\n"
     ]
    }
   ],
   "source": [
    "steps = 100\n",
    "with open(f'models/samples_3_bodies_3_dim_1_m_com_steps_{steps}.pkl', 'rb') as f:\n",
    "        model = pickle.load(f)\n",
    "X, y = get_X_y(orbit3b, steps, False, True)\n",
    "X_train, X_test, y_train, y_test = train_test_split(X, y)\n",
    "y_pred = model.model.predict(X_test)\n",
    "error_100 = np.sqrt(mean_squared_error(y_test, y_pred, multioutput='raw_values'))\n",
    "print(steps, error_100)"
   ]
  },
  {
   "cell_type": "code",
   "execution_count": 18,
   "metadata": {},
   "outputs": [
    {
     "name": "stdout",
     "output_type": "stream",
     "text": [
      "1000 [0.84061906 0.81472997 0.77651892 0.82091344 0.79684964 0.7890864\n",
      " 0.75991032 0.76125124 0.75848999 0.77049473 0.76775271 0.77332223]\n"
     ]
    }
   ],
   "source": [
    "steps = 1000\n",
    "with open(f'models/samples_3_bodies_3_dim_1_m_com_steps_{steps}.pkl', 'rb') as f:\n",
    "        model = pickle.load(f)\n",
    "X, y = get_X_y(orbit3b, steps, False, True)\n",
    "X_train, X_test, y_train, y_test = train_test_split(X, y)\n",
    "y_pred = model.model.predict(X_test)\n",
    "error_1000 = np.sqrt(mean_squared_error(y_test, y_pred, multioutput='raw_values'))\n",
    "print(steps, error_1000)"
   ]
  },
  {
   "cell_type": "code",
   "execution_count": 19,
   "metadata": {},
   "outputs": [
    {
     "name": "stdout",
     "output_type": "stream",
     "text": [
      "0.015277748587549976 0.301126330393731\n",
      "0.12463087650801724 0.6065069271284586\n",
      "0.8064529040568457 0.765203535878554\n"
     ]
    }
   ],
   "source": [
    "print(np.mean(error_10[:6]), np.mean(error_10[6:]))\n",
    "print(np.mean(error_100[:6]), np.mean(error_100[6:]))\n",
    "print(np.mean(error_1000[:6]), np.mean(error_1000[6:]))"
   ]
  },
  {
   "cell_type": "code",
   "execution_count": null,
   "metadata": {},
   "outputs": [],
   "source": []
  }
 ],
 "metadata": {
  "kernelspec": {
   "display_name": "Environment (conda_tensorflow2_p36)",
   "language": "python",
   "name": "conda_tensorflow2_p36"
  },
  "language_info": {
   "codemirror_mode": {
    "name": "ipython",
    "version": 3
   },
   "file_extension": ".py",
   "mimetype": "text/x-python",
   "name": "python",
   "nbconvert_exporter": "python",
   "pygments_lexer": "ipython3",
   "version": "3.6.10"
  }
 },
 "nbformat": 4,
 "nbformat_minor": 4
}
