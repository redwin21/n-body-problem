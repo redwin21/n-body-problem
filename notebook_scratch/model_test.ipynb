{
 "cells": [
  {
   "cell_type": "code",
   "execution_count": 90,
   "metadata": {},
   "outputs": [
    {
     "name": "stdout",
     "output_type": "stream",
     "text": [
      "The autoreload extension is already loaded. To reload it, use:\n",
      "  %reload_ext autoreload\n"
     ]
    }
   ],
   "source": [
    "import numpy as np\n",
    "import pandas as pd\n",
    "import pickle\n",
    "from transform import get_X_y, transform_X_y, inverse_transform_X_y, normalize\n",
    "from model_generator import *\n",
    "\n",
    "from sklearn.model_selection import train_test_split, cross_val_score, GridSearchCV\n",
    "from sklearn.preprocessing import StandardScaler\n",
    "from sklearn.pipeline import make_pipeline\n",
    "from sklearn.metrics import mean_squared_error\n",
    "from sklearn.ensemble import GradientBoostingRegressor, RandomForestRegressor\n",
    "from sklearn.multioutput import MultiOutputRegressor\n",
    "\n",
    "%load_ext autoreload\n",
    "%autoreload 2"
   ]
  },
  {
   "cell_type": "code",
   "execution_count": 91,
   "metadata": {},
   "outputs": [],
   "source": [
    "with open('samples_2_bodies_3_dim_1_m_com_steps_10.pkl', 'rb') as f:\n",
    "        model = pickle.load(f)"
   ]
  },
  {
   "cell_type": "code",
   "execution_count": 92,
   "metadata": {},
   "outputs": [],
   "source": [
    "orbit2b = pd.read_csv('../data/samples_2_bodies_3_dim_1_m_com.csv')\n",
    "X, y = get_X_y(orbit2b, 10, False, False)"
   ]
  },
  {
   "cell_type": "code",
   "execution_count": 93,
   "metadata": {},
   "outputs": [
    {
     "data": {
      "text/plain": [
       "(200000, 12)"
      ]
     },
     "execution_count": 93,
     "metadata": {},
     "output_type": "execute_result"
    }
   ],
   "source": [
    "X.shape"
   ]
  },
  {
   "cell_type": "code",
   "execution_count": 94,
   "metadata": {},
   "outputs": [
    {
     "data": {
      "text/plain": [
       "array([[ 0.07311469,  0.32115203,  0.24666064, -0.07311469, -0.32115203,\n",
       "        -0.24666064,  0.00941661, -0.28234207,  0.20003969, -0.00941661,\n",
       "         0.28234207, -0.20003969],\n",
       "       [ 0.04568598,  0.04711983,  0.18948523, -0.04568598, -0.04711983,\n",
       "        -0.18948523, -0.21710988, -0.98218564, -0.64115932,  0.21710988,\n",
       "         0.98218564,  0.64115932]])"
      ]
     },
     "execution_count": 94,
     "metadata": {},
     "output_type": "execute_result"
    }
   ],
   "source": [
    "inverse_transform_X_y(model.predict_(transform_X_y(X[:2,:],2, False), transform=False), 2, False)"
   ]
  },
  {
   "cell_type": "code",
   "execution_count": 95,
   "metadata": {},
   "outputs": [
    {
     "data": {
      "text/plain": [
       "(array([[ 0.07281155,  0.33968053,  0.23480664, -0.07281155, -0.33968053,\n",
       "         -0.23480664,  0.03266844, -0.2460071 ,  0.23030966, -0.03266844,\n",
       "          0.2460071 , -0.23030966],\n",
       "        [ 0.05440708,  0.10524137,  0.2220554 , -0.05440708, -0.10524137,\n",
       "         -0.2220554 , -0.1514587 , -0.82615856, -0.45092904,  0.1514587 ,\n",
       "          0.82615856,  0.45092904]]),\n",
       " array([[ 0.07431854,  0.32285098,  0.24714994, -0.07431854, -0.32285098,\n",
       "         -0.24714994,  0.01739261, -0.31477706,  0.18026482, -0.01739261,\n",
       "          0.31477706, -0.18026482],\n",
       "        [ 0.04353645,  0.05263279,  0.1875935 , -0.04353645, -0.05263279,\n",
       "         -0.1875935 , -0.21588262, -0.92730709, -0.72122765,  0.21588262,\n",
       "          0.92730709,  0.72122765]]))"
      ]
     },
     "execution_count": 95,
     "metadata": {},
     "output_type": "execute_result"
    }
   ],
   "source": [
    "X[:2,:], y[:2,:]"
   ]
  },
  {
   "cell_type": "code",
   "execution_count": 96,
   "metadata": {},
   "outputs": [
    {
     "data": {
      "text/plain": [
       "array([[ 0.07311469,  0.32115203,  0.24666064, -0.07311469, -0.32115203,\n",
       "        -0.24666064,  0.00941661, -0.28234207,  0.20003969, -0.00941661,\n",
       "         0.28234207, -0.20003969],\n",
       "       [ 0.04568598,  0.04711983,  0.18948523, -0.04568598, -0.04711983,\n",
       "        -0.18948523, -0.21710988, -0.98218564, -0.64115932,  0.21710988,\n",
       "         0.98218564,  0.64115932],\n",
       "       [-0.0097771 , -0.04537326, -0.02215093,  0.0097771 ,  0.04537326,\n",
       "         0.02215093, -0.04275323,  1.91208471, -0.94730372,  0.04275323,\n",
       "        -1.91208471,  0.94730372],\n",
       "       [ 0.06123634,  0.36077459,  0.18756358, -0.06123634, -0.36077459,\n",
       "        -0.18756358,  0.05958586, -0.03937822,  0.34608129, -0.05958586,\n",
       "         0.03937822, -0.34608129],\n",
       "       [ 0.02151226,  0.28905452,  0.03110837, -0.02151226, -0.28905452,\n",
       "        -0.03110837,  0.13918573,  0.54788286,  0.47729123, -0.13918573,\n",
       "        -0.54788286, -0.47729123]])"
      ]
     },
     "execution_count": 96,
     "metadata": {},
     "output_type": "execute_result"
    }
   ],
   "source": [
    "model.predict_(X[:5,:], True)"
   ]
  },
  {
   "cell_type": "code",
   "execution_count": null,
   "metadata": {},
   "outputs": [],
   "source": []
  }
 ],
 "metadata": {
  "kernelspec": {
   "display_name": "Python (gal)",
   "language": "python",
   "name": "gal"
  },
  "language_info": {
   "codemirror_mode": {
    "name": "ipython",
    "version": 3
   },
   "file_extension": ".py",
   "mimetype": "text/x-python",
   "name": "python",
   "nbconvert_exporter": "python",
   "pygments_lexer": "ipython3",
   "version": "3.8.0"
  }
 },
 "nbformat": 4,
 "nbformat_minor": 4
}
