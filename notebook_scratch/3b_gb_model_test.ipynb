{
 "cells": [
  {
   "cell_type": "code",
   "execution_count": 1,
   "metadata": {},
   "outputs": [],
   "source": [
    "import numpy as np\n",
    "import pandas as pd\n",
    "import matplotlib.pyplot as plt\n",
    "import pickle\n",
    "plt.style.use(\"ggplot\")\n",
    "%matplotlib inline"
   ]
  },
  {
   "cell_type": "code",
   "execution_count": 2,
   "metadata": {},
   "outputs": [],
   "source": [
    "from transform import get_X_y\n",
    "%load_ext autoreload\n",
    "%autoreload 2"
   ]
  },
  {
   "cell_type": "code",
   "execution_count": 3,
   "metadata": {},
   "outputs": [],
   "source": [
    "## import sklearn modules\n",
    "\n",
    "from sklearn.model_selection import train_test_split, cross_val_score, GridSearchCV\n",
    "from sklearn.preprocessing import StandardScaler\n",
    "from sklearn.pipeline import make_pipeline\n",
    "from sklearn.metrics import mean_squared_error\n",
    "\n",
    "from sklearn.ensemble import GradientBoostingRegressor, RandomForestRegressor\n",
    "from sklearn.multioutput import MultiOutputRegressor"
   ]
  },
  {
   "cell_type": "code",
   "execution_count": 4,
   "metadata": {},
   "outputs": [],
   "source": [
    "orbit3b = pd.read_csv('../data/samples_3_bodies_3_dim_1_m_com.csv')"
   ]
  },
  {
   "cell_type": "code",
   "execution_count": 5,
   "metadata": {},
   "outputs": [
    {
     "data": {
      "text/html": [
       "<div>\n",
       "<style scoped>\n",
       "    .dataframe tbody tr th:only-of-type {\n",
       "        vertical-align: middle;\n",
       "    }\n",
       "\n",
       "    .dataframe tbody tr th {\n",
       "        vertical-align: top;\n",
       "    }\n",
       "\n",
       "    .dataframe thead th {\n",
       "        text-align: right;\n",
       "    }\n",
       "</style>\n",
       "<table border=\"1\" class=\"dataframe\">\n",
       "  <thead>\n",
       "    <tr style=\"text-align: right;\">\n",
       "      <th></th>\n",
       "      <th>sim_id</th>\n",
       "      <th>m_1</th>\n",
       "      <th>m_2</th>\n",
       "      <th>m_3</th>\n",
       "      <th>rx_1_0</th>\n",
       "      <th>ry_1_0</th>\n",
       "      <th>rz_1_0</th>\n",
       "      <th>rx_2_0</th>\n",
       "      <th>ry_2_0</th>\n",
       "      <th>rz_2_0</th>\n",
       "      <th>...</th>\n",
       "      <th>rz_3_1000</th>\n",
       "      <th>vx_1_1000</th>\n",
       "      <th>vy_1_1000</th>\n",
       "      <th>vz_1_1000</th>\n",
       "      <th>vx_2_1000</th>\n",
       "      <th>vy_2_1000</th>\n",
       "      <th>vz_2_1000</th>\n",
       "      <th>vx_3_1000</th>\n",
       "      <th>vy_3_1000</th>\n",
       "      <th>vz_3_1000</th>\n",
       "    </tr>\n",
       "  </thead>\n",
       "  <tbody>\n",
       "    <tr>\n",
       "      <th>0</th>\n",
       "      <td>0.0</td>\n",
       "      <td>1.0</td>\n",
       "      <td>1.0</td>\n",
       "      <td>1.0</td>\n",
       "      <td>-1.871301</td>\n",
       "      <td>-2.006454</td>\n",
       "      <td>-4.019154</td>\n",
       "      <td>1.036887</td>\n",
       "      <td>1.102577</td>\n",
       "      <td>1.914704</td>\n",
       "      <td>...</td>\n",
       "      <td>1.506755</td>\n",
       "      <td>0.058465</td>\n",
       "      <td>0.055659</td>\n",
       "      <td>0.251354</td>\n",
       "      <td>0.468752</td>\n",
       "      <td>0.637606</td>\n",
       "      <td>-0.860091</td>\n",
       "      <td>-0.527217</td>\n",
       "      <td>-0.693265</td>\n",
       "      <td>0.608736</td>\n",
       "    </tr>\n",
       "    <tr>\n",
       "      <th>1</th>\n",
       "      <td>0.0</td>\n",
       "      <td>1.0</td>\n",
       "      <td>1.0</td>\n",
       "      <td>1.0</td>\n",
       "      <td>-0.795995</td>\n",
       "      <td>-0.784647</td>\n",
       "      <td>-2.908840</td>\n",
       "      <td>0.550239</td>\n",
       "      <td>0.475886</td>\n",
       "      <td>1.411803</td>\n",
       "      <td>...</td>\n",
       "      <td>1.914033</td>\n",
       "      <td>-0.093075</td>\n",
       "      <td>-0.108049</td>\n",
       "      <td>-0.055457</td>\n",
       "      <td>1.271687</td>\n",
       "      <td>0.664929</td>\n",
       "      <td>-0.215485</td>\n",
       "      <td>-1.178611</td>\n",
       "      <td>-0.556880</td>\n",
       "      <td>0.270943</td>\n",
       "    </tr>\n",
       "    <tr>\n",
       "      <th>2</th>\n",
       "      <td>0.0</td>\n",
       "      <td>1.0</td>\n",
       "      <td>1.0</td>\n",
       "      <td>1.0</td>\n",
       "      <td>-1.286293</td>\n",
       "      <td>-1.327033</td>\n",
       "      <td>-3.676037</td>\n",
       "      <td>0.781252</td>\n",
       "      <td>0.669198</td>\n",
       "      <td>1.907524</td>\n",
       "      <td>...</td>\n",
       "      <td>2.037791</td>\n",
       "      <td>-0.051280</td>\n",
       "      <td>-0.063582</td>\n",
       "      <td>0.041273</td>\n",
       "      <td>0.165383</td>\n",
       "      <td>-0.955880</td>\n",
       "      <td>1.572582</td>\n",
       "      <td>-0.114103</td>\n",
       "      <td>1.019462</td>\n",
       "      <td>-1.613855</td>\n",
       "    </tr>\n",
       "    <tr>\n",
       "      <th>3</th>\n",
       "      <td>0.0</td>\n",
       "      <td>1.0</td>\n",
       "      <td>1.0</td>\n",
       "      <td>1.0</td>\n",
       "      <td>-1.531398</td>\n",
       "      <td>-1.604794</td>\n",
       "      <td>-3.942117</td>\n",
       "      <td>0.923130</td>\n",
       "      <td>0.881083</td>\n",
       "      <td>1.939458</td>\n",
       "      <td>...</td>\n",
       "      <td>1.849364</td>\n",
       "      <td>-0.022043</td>\n",
       "      <td>-0.032130</td>\n",
       "      <td>0.102739</td>\n",
       "      <td>1.351800</td>\n",
       "      <td>0.572655</td>\n",
       "      <td>-0.143771</td>\n",
       "      <td>-1.329757</td>\n",
       "      <td>-0.540525</td>\n",
       "      <td>0.041031</td>\n",
       "    </tr>\n",
       "    <tr>\n",
       "      <th>4</th>\n",
       "      <td>0.0</td>\n",
       "      <td>1.0</td>\n",
       "      <td>1.0</td>\n",
       "      <td>1.0</td>\n",
       "      <td>-1.754476</td>\n",
       "      <td>-1.864324</td>\n",
       "      <td>-4.064955</td>\n",
       "      <td>1.039760</td>\n",
       "      <td>1.002777</td>\n",
       "      <td>2.016291</td>\n",
       "      <td>...</td>\n",
       "      <td>1.675857</td>\n",
       "      <td>0.018660</td>\n",
       "      <td>0.012058</td>\n",
       "      <td>0.181290</td>\n",
       "      <td>1.472221</td>\n",
       "      <td>0.435378</td>\n",
       "      <td>0.073873</td>\n",
       "      <td>-1.490881</td>\n",
       "      <td>-0.447436</td>\n",
       "      <td>-0.255163</td>\n",
       "    </tr>\n",
       "  </tbody>\n",
       "</table>\n",
       "<p>5 rows × 76 columns</p>\n",
       "</div>"
      ],
      "text/plain": [
       "   sim_id  m_1  m_2  m_3    rx_1_0    ry_1_0    rz_1_0    rx_2_0    ry_2_0  \\\n",
       "0     0.0  1.0  1.0  1.0 -1.871301 -2.006454 -4.019154  1.036887  1.102577   \n",
       "1     0.0  1.0  1.0  1.0 -0.795995 -0.784647 -2.908840  0.550239  0.475886   \n",
       "2     0.0  1.0  1.0  1.0 -1.286293 -1.327033 -3.676037  0.781252  0.669198   \n",
       "3     0.0  1.0  1.0  1.0 -1.531398 -1.604794 -3.942117  0.923130  0.881083   \n",
       "4     0.0  1.0  1.0  1.0 -1.754476 -1.864324 -4.064955  1.039760  1.002777   \n",
       "\n",
       "     rz_2_0  ...  rz_3_1000  vx_1_1000  vy_1_1000  vz_1_1000  vx_2_1000  \\\n",
       "0  1.914704  ...   1.506755   0.058465   0.055659   0.251354   0.468752   \n",
       "1  1.411803  ...   1.914033  -0.093075  -0.108049  -0.055457   1.271687   \n",
       "2  1.907524  ...   2.037791  -0.051280  -0.063582   0.041273   0.165383   \n",
       "3  1.939458  ...   1.849364  -0.022043  -0.032130   0.102739   1.351800   \n",
       "4  2.016291  ...   1.675857   0.018660   0.012058   0.181290   1.472221   \n",
       "\n",
       "   vy_2_1000  vz_2_1000  vx_3_1000  vy_3_1000  vz_3_1000  \n",
       "0   0.637606  -0.860091  -0.527217  -0.693265   0.608736  \n",
       "1   0.664929  -0.215485  -1.178611  -0.556880   0.270943  \n",
       "2  -0.955880   1.572582  -0.114103   1.019462  -1.613855  \n",
       "3   0.572655  -0.143771  -1.329757  -0.540525   0.041031  \n",
       "4   0.435378   0.073873  -1.490881  -0.447436  -0.255163  \n",
       "\n",
       "[5 rows x 76 columns]"
      ]
     },
     "execution_count": 5,
     "metadata": {},
     "output_type": "execute_result"
    }
   ],
   "source": [
    "orbit3b.head()"
   ]
  },
  {
   "cell_type": "code",
   "execution_count": 6,
   "metadata": {},
   "outputs": [],
   "source": [
    "model = MultiOutputRegressor(GradientBoostingRegressor(n_estimators=100,\n",
    "                                                        max_depth=10,\n",
    "                                                        learning_rate=0.05)\n",
    "                             , n_jobs=-1)"
   ]
  },
  {
   "cell_type": "code",
   "execution_count": 7,
   "metadata": {},
   "outputs": [],
   "source": [
    "steps = 10\n",
    "X, y = get_X_y(orbit3b, steps, False, True)"
   ]
  },
  {
   "cell_type": "code",
   "execution_count": 8,
   "metadata": {},
   "outputs": [],
   "source": [
    "X_train, X_test, y_train, y_test = train_test_split(X, y)"
   ]
  },
  {
   "cell_type": "code",
   "execution_count": 9,
   "metadata": {},
   "outputs": [],
   "source": [
    "model.fit(X_train, y_train);"
   ]
  },
  {
   "cell_type": "code",
   "execution_count": 10,
   "metadata": {},
   "outputs": [],
   "source": [
    "y_pred = model.predict(X_test)"
   ]
  },
  {
   "cell_type": "code",
   "execution_count": 11,
   "metadata": {},
   "outputs": [],
   "source": [
    "error_10 = np.sqrt(mean_squared_error(y_test, y_pred, multioutput='raw_values'))"
   ]
  },
  {
   "cell_type": "code",
   "execution_count": 12,
   "metadata": {},
   "outputs": [
    {
     "name": "stdout",
     "output_type": "stream",
     "text": [
      "10 [0.04179739 0.03411312 0.03642888 0.04334737 0.05490527 0.04070807\n",
      " 0.6120962  0.61843824 0.61926547 0.64656974 0.62657545 0.62022093]\n"
     ]
    }
   ],
   "source": [
    "print(steps, error_10)"
   ]
  },
  {
   "cell_type": "code",
   "execution_count": 13,
   "metadata": {},
   "outputs": [
    {
     "data": {
      "text/plain": [
       "(array([-0.25251427, -0.51872643, -0.51976833, -0.37137377, -0.32891991,\n",
       "        -0.48351389,  0.51071664, -0.69387327, -1.76524899,  0.56052486,\n",
       "        -3.44404561, -0.4390444 ]),\n",
       " array([-0.25081718, -0.52797198, -0.51444427, -0.37298955, -0.2858214 ,\n",
       "        -0.4810121 ,  0.67264739, -1.3726809 , -1.76771742,  0.52617129,\n",
       "        -2.53543956, -0.50939295]))"
      ]
     },
     "execution_count": 13,
     "metadata": {},
     "output_type": "execute_result"
    }
   ],
   "source": [
    "y_test[0], y_pred[0]"
   ]
  },
  {
   "cell_type": "code",
   "execution_count": 14,
   "metadata": {},
   "outputs": [],
   "source": [
    "steps = 100\n",
    "X, y = get_X_y(orbit3b, steps, False, True)"
   ]
  },
  {
   "cell_type": "code",
   "execution_count": 15,
   "metadata": {},
   "outputs": [],
   "source": [
    "X_train, X_test, y_train, y_test = train_test_split(X, y)"
   ]
  },
  {
   "cell_type": "code",
   "execution_count": 16,
   "metadata": {},
   "outputs": [],
   "source": [
    "model.fit(X_train, y_train);"
   ]
  },
  {
   "cell_type": "code",
   "execution_count": 17,
   "metadata": {},
   "outputs": [],
   "source": [
    "y_pred = model.predict(X_test)"
   ]
  },
  {
   "cell_type": "code",
   "execution_count": 18,
   "metadata": {},
   "outputs": [],
   "source": [
    "error_100 = np.sqrt(mean_squared_error(y_test, y_pred, multioutput='raw_values'))"
   ]
  },
  {
   "cell_type": "code",
   "execution_count": 19,
   "metadata": {},
   "outputs": [
    {
     "name": "stdout",
     "output_type": "stream",
     "text": [
      "100 [0.25020847 0.2489     0.25123052 0.25499652 0.25891803 0.2538403\n",
      " 0.9380214  0.92769002 0.95478029 0.93623786 0.95059012 0.94767471]\n"
     ]
    }
   ],
   "source": [
    "print(steps, error_100)"
   ]
  },
  {
   "cell_type": "code",
   "execution_count": 20,
   "metadata": {},
   "outputs": [
    {
     "data": {
      "text/plain": [
       "(array([-0.03453428,  1.2819052 , -0.79950754, -0.72672522,  1.04209859,\n",
       "        -0.85823423,  0.0867247 , -0.1344913 ,  0.57760159,  0.0741194 ,\n",
       "         0.81047715,  0.53486433]),\n",
       " array([ 0.04195743,  1.44153653, -0.74228526, -0.59020279,  0.53995199,\n",
       "        -0.79681636,  0.54874742,  0.55292672,  0.96839769, -0.04962332,\n",
       "        -0.0250744 ,  0.86077827]))"
      ]
     },
     "execution_count": 20,
     "metadata": {},
     "output_type": "execute_result"
    }
   ],
   "source": [
    "y_test[0], y_pred[0]"
   ]
  },
  {
   "cell_type": "code",
   "execution_count": 21,
   "metadata": {},
   "outputs": [],
   "source": [
    "steps = 1000\n",
    "X, y = get_X_y(orbit3b, steps, False, True)"
   ]
  },
  {
   "cell_type": "code",
   "execution_count": 22,
   "metadata": {},
   "outputs": [],
   "source": [
    "X_train, X_test, y_train, y_test = train_test_split(X, y)"
   ]
  },
  {
   "cell_type": "code",
   "execution_count": 23,
   "metadata": {},
   "outputs": [],
   "source": [
    "model.fit(X_train, y_train);"
   ]
  },
  {
   "cell_type": "code",
   "execution_count": 24,
   "metadata": {},
   "outputs": [],
   "source": [
    "y_pred = model.predict(X_test)"
   ]
  },
  {
   "cell_type": "code",
   "execution_count": 25,
   "metadata": {},
   "outputs": [],
   "source": [
    "error_1000 = np.sqrt(mean_squared_error(y_test, y_pred, multioutput='raw_values'))"
   ]
  },
  {
   "cell_type": "code",
   "execution_count": 26,
   "metadata": {},
   "outputs": [
    {
     "name": "stdout",
     "output_type": "stream",
     "text": [
      "1000 [1.35946769 1.33993782 1.31802041 1.37262888 1.40553526 1.30711263\n",
      " 1.09491065 1.08504871 1.10675491 1.11156702 1.10058498 1.08472105]\n"
     ]
    }
   ],
   "source": [
    "print(steps, error_1000)"
   ]
  },
  {
   "cell_type": "code",
   "execution_count": 27,
   "metadata": {},
   "outputs": [
    {
     "data": {
      "text/plain": [
       "(array([ 0.57953647, -1.78930066, -6.38337398,  0.90943712, -1.64540677,\n",
       "        -6.31609487,  0.5212999 , -0.58123435, -0.06660228, -0.79773887,\n",
       "         0.34199434, -0.8437748 ]),\n",
       " array([ 2.85340891e-01, -2.75146551e-01, -2.88975588e+00,  5.20222361e-01,\n",
       "        -3.32668416e-01, -5.13174655e+00,  4.49237184e-03,  4.39916211e-02,\n",
       "        -4.38637698e-02, -2.43652832e-02,  8.36221901e-04, -7.41130007e-02]))"
      ]
     },
     "execution_count": 27,
     "metadata": {},
     "output_type": "execute_result"
    }
   ],
   "source": [
    "y_test[0], y_pred[0]"
   ]
  },
  {
   "cell_type": "code",
   "execution_count": 29,
   "metadata": {},
   "outputs": [
    {
     "name": "stdout",
     "output_type": "stream",
     "text": [
      "0.04188334984284575 0.6238610056241741\n",
      "0.2530156393751767 0.9424990659730773\n",
      "1.3504504465683127 1.097264555619048\n"
     ]
    }
   ],
   "source": [
    "print(np.mean(error_10[:6]), np.mean(error_10[6:]))\n",
    "print(np.mean(error_100[:6]), np.mean(error_100[6:]))\n",
    "print(np.mean(error_1000[:6]), np.mean(error_1000[6:]))"
   ]
  },
  {
   "cell_type": "code",
   "execution_count": null,
   "metadata": {},
   "outputs": [],
   "source": []
  }
 ],
 "metadata": {
  "kernelspec": {
   "display_name": "Environment (conda_tensorflow2_p36)",
   "language": "python",
   "name": "conda_tensorflow2_p36"
  },
  "language_info": {
   "codemirror_mode": {
    "name": "ipython",
    "version": 3
   },
   "file_extension": ".py",
   "mimetype": "text/x-python",
   "name": "python",
   "nbconvert_exporter": "python",
   "pygments_lexer": "ipython3",
   "version": "3.6.10"
  }
 },
 "nbformat": 4,
 "nbformat_minor": 4
}
