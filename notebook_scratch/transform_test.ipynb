{
 "cells": [
  {
   "cell_type": "code",
   "execution_count": 1,
   "metadata": {},
   "outputs": [],
   "source": [
    "import numpy as np\n",
    "import pandas as pd\n",
    "import matplotlib.pyplot as plt\n",
    "import pickle\n",
    "plt.style.use(\"ggplot\")\n",
    "%matplotlib inline"
   ]
  },
  {
   "cell_type": "code",
   "execution_count": 2,
   "metadata": {},
   "outputs": [],
   "source": [
    "from transform import get_X_y\n",
    "from transform import inverse_transform_X_y\n",
    "%load_ext autoreload\n",
    "%autoreload 2"
   ]
  },
  {
   "cell_type": "code",
   "execution_count": 24,
   "metadata": {},
   "outputs": [],
   "source": [
    "orbit3b = pd.read_csv('../data/samples_2_bodies_3_dim_1_m_com.csv')"
   ]
  },
  {
   "cell_type": "code",
   "execution_count": 25,
   "metadata": {},
   "outputs": [],
   "source": [
    "steps = 10\n",
    "orig_X, _ = get_X_y(orbit3b, steps, False, False)"
   ]
  },
  {
   "cell_type": "code",
   "execution_count": 26,
   "metadata": {},
   "outputs": [
    {
     "data": {
      "text/plain": [
       "array([[ 0.07281155,  0.33968053,  0.23480664, -0.07281155, -0.33968053,\n",
       "        -0.23480664,  0.03266844, -0.2460071 ,  0.23030966, -0.03266844,\n",
       "         0.2460071 , -0.23030966],\n",
       "       [ 0.05440708,  0.10524137,  0.2220554 , -0.05440708, -0.10524137,\n",
       "        -0.2220554 , -0.1514587 , -0.82615856, -0.45092904,  0.1514587 ,\n",
       "         0.82615856,  0.45092904]])"
      ]
     },
     "execution_count": 26,
     "metadata": {},
     "output_type": "execute_result"
    }
   ],
   "source": [
    "orig_X[0:2,:]"
   ]
  },
  {
   "cell_type": "code",
   "execution_count": 27,
   "metadata": {},
   "outputs": [],
   "source": [
    "steps = 10\n",
    "trans_X, _ = get_X_y(orbit3b, steps, False, True)"
   ]
  },
  {
   "cell_type": "code",
   "execution_count": 28,
   "metadata": {},
   "outputs": [
    {
     "data": {
      "text/plain": [
       "array([[-0.1456231 , -0.67936106, -0.46961327, -0.06533689,  0.49201421,\n",
       "        -0.46061932],\n",
       "       [-0.10881417, -0.21048273, -0.4441108 ,  0.30291739,  1.65231711,\n",
       "         0.90185808]])"
      ]
     },
     "execution_count": 28,
     "metadata": {},
     "output_type": "execute_result"
    }
   ],
   "source": [
    "trans_X[0:2,:]"
   ]
  },
  {
   "cell_type": "code",
   "execution_count": 30,
   "metadata": {},
   "outputs": [],
   "source": [
    "inv_X = inverse_transform_X_y(trans_X, 2, False)"
   ]
  },
  {
   "cell_type": "code",
   "execution_count": 31,
   "metadata": {},
   "outputs": [
    {
     "data": {
      "text/plain": [
       "array([[ 0.07281155,  0.33968053,  0.23480664, -0.07281155, -0.33968053,\n",
       "        -0.23480664,  0.03266844, -0.2460071 ,  0.23030966, -0.03266844,\n",
       "         0.2460071 , -0.23030966],\n",
       "       [ 0.05440708,  0.10524137,  0.2220554 , -0.05440708, -0.10524137,\n",
       "        -0.2220554 , -0.1514587 , -0.82615856, -0.45092904,  0.1514587 ,\n",
       "         0.82615856,  0.45092904]])"
      ]
     },
     "execution_count": 31,
     "metadata": {},
     "output_type": "execute_result"
    }
   ],
   "source": [
    "inv_X[0:2,:]"
   ]
  },
  {
   "cell_type": "code",
   "execution_count": null,
   "metadata": {},
   "outputs": [],
   "source": []
  }
 ],
 "metadata": {
  "kernelspec": {
   "display_name": "Environment (conda_tensorflow2_p36)",
   "language": "python",
   "name": "conda_tensorflow2_p36"
  },
  "language_info": {
   "codemirror_mode": {
    "name": "ipython",
    "version": 3
   },
   "file_extension": ".py",
   "mimetype": "text/x-python",
   "name": "python",
   "nbconvert_exporter": "python",
   "pygments_lexer": "ipython3",
   "version": "3.6.10"
  }
 },
 "nbformat": 4,
 "nbformat_minor": 4
}
